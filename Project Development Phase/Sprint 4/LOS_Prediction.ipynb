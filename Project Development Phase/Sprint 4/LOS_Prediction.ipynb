{
  "nbformat": 4,
  "nbformat_minor": 0,
  "metadata": {
    "colab": {
      "provenance": []
    },
    "kernelspec": {
      "name": "python3",
      "display_name": "Python 3"
    },
    "language_info": {
      "name": "python"
    }
  },
  "cells": [
    {
      "cell_type": "markdown",
      "source": [
        "# Importing required Packages"
      ],
      "metadata": {
        "id": "r7uaRhD2svKi"
      }
    },
    {
      "cell_type": "code",
      "execution_count": 72,
      "metadata": {
        "id": "NgpV30s7qtcS"
      },
      "outputs": [],
      "source": [
        "import numpy as np\n",
        "import pandas as pd\n",
        "import matplotlib.pyplot as plt\n",
        "import seaborn as sns\n",
        "%matplotlib inline\n",
        "sns.set_style(\"darkgrid\")\n",
        "plt.style.use(\"dark_background\")"
      ]
    },
    {
      "cell_type": "markdown",
      "source": [
        "# Importing the dataset"
      ],
      "metadata": {
        "id": "DX1KbXNLtGVj"
      }
    },
    {
      "cell_type": "code",
      "source": [
        "train = pd.read_csv('/content/input/training_data.csv')\n",
        "test = pd.read_csv('/content/input/testing_data.csv')\n",
        "Paramters_Description = pd.read_csv('/content/input/parameter_description.csv')\n",
        "sample = pd.read_csv('/content/input/testing_target.csv')"
      ],
      "metadata": {
        "id": "_5xIS-EtsrAJ"
      },
      "execution_count": 73,
      "outputs": []
    },
    {
      "cell_type": "markdown",
      "source": [
        "# Viewing dataset"
      ],
      "metadata": {
        "id": "PSTN-jQNtqAA"
      }
    },
    {
      "cell_type": "code",
      "source": [
        "train.head(5) "
      ],
      "metadata": {
        "colab": {
          "base_uri": "https://localhost:8080/",
          "height": 357
        },
        "id": "aYt20Ep1tjvT",
        "outputId": "9ee830c0-49ca-4bb7-e49e-fe8634d37a77"
      },
      "execution_count": 74,
      "outputs": [
        {
          "output_type": "execute_result",
          "data": {
            "text/plain": [
              "   case_id  Hospital_code Hospital_type_code  City_Code_Hospital  \\\n",
              "0        1              8                  c                   3   \n",
              "1        2              2                  c                   5   \n",
              "2        3             10                  e                   1   \n",
              "3        4             26                  b                   2   \n",
              "4        5             26                  b                   2   \n",
              "\n",
              "  Hospital_region_code  Available_Extra_Rooms_in_Hospital    Department  \\\n",
              "0                    Z                                  3  radiotherapy   \n",
              "1                    Z                                  2  radiotherapy   \n",
              "2                    X                                  2    anesthesia   \n",
              "3                    Y                                  2  radiotherapy   \n",
              "4                    Y                                  2  radiotherapy   \n",
              "\n",
              "  Ward_Type Ward_Facility_Code  Bed_Grade  patientid  City_Code_Patient  \\\n",
              "0         R                  F        2.0      31397                7.0   \n",
              "1         S                  F        2.0      31397                7.0   \n",
              "2         S                  E        2.0      31397                7.0   \n",
              "3         R                  D        2.0      31397                7.0   \n",
              "4         S                  D        2.0      31397                7.0   \n",
              "\n",
              "  Type_of_Admission Severity_of_Illness  Visitors_with_Patient    Age  \\\n",
              "0         Emergency             Extreme                    2.0  51-60   \n",
              "1            Trauma             Extreme                    2.0  51-60   \n",
              "2            Trauma             Extreme                    2.0  51-60   \n",
              "3            Trauma             Extreme                    2.0  51-60   \n",
              "4            Trauma             Extreme                    2.0  51-60   \n",
              "\n",
              "   Admission_Deposit   Stay  \n",
              "0             4911.0   0-10  \n",
              "1             5954.0  41-50  \n",
              "2             4745.0  31-40  \n",
              "3             7272.0  41-50  \n",
              "4             5558.0  41-50  "
            ],
            "text/html": [
              "\n",
              "  <div id=\"df-05cf871f-6169-4307-901f-e2cad95c3a2f\">\n",
              "    <div class=\"colab-df-container\">\n",
              "      <div>\n",
              "<style scoped>\n",
              "    .dataframe tbody tr th:only-of-type {\n",
              "        vertical-align: middle;\n",
              "    }\n",
              "\n",
              "    .dataframe tbody tr th {\n",
              "        vertical-align: top;\n",
              "    }\n",
              "\n",
              "    .dataframe thead th {\n",
              "        text-align: right;\n",
              "    }\n",
              "</style>\n",
              "<table border=\"1\" class=\"dataframe\">\n",
              "  <thead>\n",
              "    <tr style=\"text-align: right;\">\n",
              "      <th></th>\n",
              "      <th>case_id</th>\n",
              "      <th>Hospital_code</th>\n",
              "      <th>Hospital_type_code</th>\n",
              "      <th>City_Code_Hospital</th>\n",
              "      <th>Hospital_region_code</th>\n",
              "      <th>Available_Extra_Rooms_in_Hospital</th>\n",
              "      <th>Department</th>\n",
              "      <th>Ward_Type</th>\n",
              "      <th>Ward_Facility_Code</th>\n",
              "      <th>Bed_Grade</th>\n",
              "      <th>patientid</th>\n",
              "      <th>City_Code_Patient</th>\n",
              "      <th>Type_of_Admission</th>\n",
              "      <th>Severity_of_Illness</th>\n",
              "      <th>Visitors_with_Patient</th>\n",
              "      <th>Age</th>\n",
              "      <th>Admission_Deposit</th>\n",
              "      <th>Stay</th>\n",
              "    </tr>\n",
              "  </thead>\n",
              "  <tbody>\n",
              "    <tr>\n",
              "      <th>0</th>\n",
              "      <td>1</td>\n",
              "      <td>8</td>\n",
              "      <td>c</td>\n",
              "      <td>3</td>\n",
              "      <td>Z</td>\n",
              "      <td>3</td>\n",
              "      <td>radiotherapy</td>\n",
              "      <td>R</td>\n",
              "      <td>F</td>\n",
              "      <td>2.0</td>\n",
              "      <td>31397</td>\n",
              "      <td>7.0</td>\n",
              "      <td>Emergency</td>\n",
              "      <td>Extreme</td>\n",
              "      <td>2.0</td>\n",
              "      <td>51-60</td>\n",
              "      <td>4911.0</td>\n",
              "      <td>0-10</td>\n",
              "    </tr>\n",
              "    <tr>\n",
              "      <th>1</th>\n",
              "      <td>2</td>\n",
              "      <td>2</td>\n",
              "      <td>c</td>\n",
              "      <td>5</td>\n",
              "      <td>Z</td>\n",
              "      <td>2</td>\n",
              "      <td>radiotherapy</td>\n",
              "      <td>S</td>\n",
              "      <td>F</td>\n",
              "      <td>2.0</td>\n",
              "      <td>31397</td>\n",
              "      <td>7.0</td>\n",
              "      <td>Trauma</td>\n",
              "      <td>Extreme</td>\n",
              "      <td>2.0</td>\n",
              "      <td>51-60</td>\n",
              "      <td>5954.0</td>\n",
              "      <td>41-50</td>\n",
              "    </tr>\n",
              "    <tr>\n",
              "      <th>2</th>\n",
              "      <td>3</td>\n",
              "      <td>10</td>\n",
              "      <td>e</td>\n",
              "      <td>1</td>\n",
              "      <td>X</td>\n",
              "      <td>2</td>\n",
              "      <td>anesthesia</td>\n",
              "      <td>S</td>\n",
              "      <td>E</td>\n",
              "      <td>2.0</td>\n",
              "      <td>31397</td>\n",
              "      <td>7.0</td>\n",
              "      <td>Trauma</td>\n",
              "      <td>Extreme</td>\n",
              "      <td>2.0</td>\n",
              "      <td>51-60</td>\n",
              "      <td>4745.0</td>\n",
              "      <td>31-40</td>\n",
              "    </tr>\n",
              "    <tr>\n",
              "      <th>3</th>\n",
              "      <td>4</td>\n",
              "      <td>26</td>\n",
              "      <td>b</td>\n",
              "      <td>2</td>\n",
              "      <td>Y</td>\n",
              "      <td>2</td>\n",
              "      <td>radiotherapy</td>\n",
              "      <td>R</td>\n",
              "      <td>D</td>\n",
              "      <td>2.0</td>\n",
              "      <td>31397</td>\n",
              "      <td>7.0</td>\n",
              "      <td>Trauma</td>\n",
              "      <td>Extreme</td>\n",
              "      <td>2.0</td>\n",
              "      <td>51-60</td>\n",
              "      <td>7272.0</td>\n",
              "      <td>41-50</td>\n",
              "    </tr>\n",
              "    <tr>\n",
              "      <th>4</th>\n",
              "      <td>5</td>\n",
              "      <td>26</td>\n",
              "      <td>b</td>\n",
              "      <td>2</td>\n",
              "      <td>Y</td>\n",
              "      <td>2</td>\n",
              "      <td>radiotherapy</td>\n",
              "      <td>S</td>\n",
              "      <td>D</td>\n",
              "      <td>2.0</td>\n",
              "      <td>31397</td>\n",
              "      <td>7.0</td>\n",
              "      <td>Trauma</td>\n",
              "      <td>Extreme</td>\n",
              "      <td>2.0</td>\n",
              "      <td>51-60</td>\n",
              "      <td>5558.0</td>\n",
              "      <td>41-50</td>\n",
              "    </tr>\n",
              "  </tbody>\n",
              "</table>\n",
              "</div>\n",
              "      <button class=\"colab-df-convert\" onclick=\"convertToInteractive('df-05cf871f-6169-4307-901f-e2cad95c3a2f')\"\n",
              "              title=\"Convert this dataframe to an interactive table.\"\n",
              "              style=\"display:none;\">\n",
              "        \n",
              "  <svg xmlns=\"http://www.w3.org/2000/svg\" height=\"24px\"viewBox=\"0 0 24 24\"\n",
              "       width=\"24px\">\n",
              "    <path d=\"M0 0h24v24H0V0z\" fill=\"none\"/>\n",
              "    <path d=\"M18.56 5.44l.94 2.06.94-2.06 2.06-.94-2.06-.94-.94-2.06-.94 2.06-2.06.94zm-11 1L8.5 8.5l.94-2.06 2.06-.94-2.06-.94L8.5 2.5l-.94 2.06-2.06.94zm10 10l.94 2.06.94-2.06 2.06-.94-2.06-.94-.94-2.06-.94 2.06-2.06.94z\"/><path d=\"M17.41 7.96l-1.37-1.37c-.4-.4-.92-.59-1.43-.59-.52 0-1.04.2-1.43.59L10.3 9.45l-7.72 7.72c-.78.78-.78 2.05 0 2.83L4 21.41c.39.39.9.59 1.41.59.51 0 1.02-.2 1.41-.59l7.78-7.78 2.81-2.81c.8-.78.8-2.07 0-2.86zM5.41 20L4 18.59l7.72-7.72 1.47 1.35L5.41 20z\"/>\n",
              "  </svg>\n",
              "      </button>\n",
              "      \n",
              "  <style>\n",
              "    .colab-df-container {\n",
              "      display:flex;\n",
              "      flex-wrap:wrap;\n",
              "      gap: 12px;\n",
              "    }\n",
              "\n",
              "    .colab-df-convert {\n",
              "      background-color: #E8F0FE;\n",
              "      border: none;\n",
              "      border-radius: 50%;\n",
              "      cursor: pointer;\n",
              "      display: none;\n",
              "      fill: #1967D2;\n",
              "      height: 32px;\n",
              "      padding: 0 0 0 0;\n",
              "      width: 32px;\n",
              "    }\n",
              "\n",
              "    .colab-df-convert:hover {\n",
              "      background-color: #E2EBFA;\n",
              "      box-shadow: 0px 1px 2px rgba(60, 64, 67, 0.3), 0px 1px 3px 1px rgba(60, 64, 67, 0.15);\n",
              "      fill: #174EA6;\n",
              "    }\n",
              "\n",
              "    [theme=dark] .colab-df-convert {\n",
              "      background-color: #3B4455;\n",
              "      fill: #D2E3FC;\n",
              "    }\n",
              "\n",
              "    [theme=dark] .colab-df-convert:hover {\n",
              "      background-color: #434B5C;\n",
              "      box-shadow: 0px 1px 3px 1px rgba(0, 0, 0, 0.15);\n",
              "      filter: drop-shadow(0px 1px 2px rgba(0, 0, 0, 0.3));\n",
              "      fill: #FFFFFF;\n",
              "    }\n",
              "  </style>\n",
              "\n",
              "      <script>\n",
              "        const buttonEl =\n",
              "          document.querySelector('#df-05cf871f-6169-4307-901f-e2cad95c3a2f button.colab-df-convert');\n",
              "        buttonEl.style.display =\n",
              "          google.colab.kernel.accessAllowed ? 'block' : 'none';\n",
              "\n",
              "        async function convertToInteractive(key) {\n",
              "          const element = document.querySelector('#df-05cf871f-6169-4307-901f-e2cad95c3a2f');\n",
              "          const dataTable =\n",
              "            await google.colab.kernel.invokeFunction('convertToInteractive',\n",
              "                                                     [key], {});\n",
              "          if (!dataTable) return;\n",
              "\n",
              "          const docLinkHtml = 'Like what you see? Visit the ' +\n",
              "            '<a target=\"_blank\" href=https://colab.research.google.com/notebooks/data_table.ipynb>data table notebook</a>'\n",
              "            + ' to learn more about interactive tables.';\n",
              "          element.innerHTML = '';\n",
              "          dataTable['output_type'] = 'display_data';\n",
              "          await google.colab.output.renderOutput(dataTable, element);\n",
              "          const docLink = document.createElement('div');\n",
              "          docLink.innerHTML = docLinkHtml;\n",
              "          element.appendChild(docLink);\n",
              "        }\n",
              "      </script>\n",
              "    </div>\n",
              "  </div>\n",
              "  "
            ]
          },
          "metadata": {},
          "execution_count": 74
        }
      ]
    },
    {
      "cell_type": "markdown",
      "source": [
        "# Dataset Column Description"
      ],
      "metadata": {
        "id": "ZOmGLvZBu4t5"
      }
    },
    {
      "cell_type": "code",
      "source": [
        "Paramters_Description"
      ],
      "metadata": {
        "colab": {
          "base_uri": "https://localhost:8080/",
          "height": 614
        },
        "id": "Vu5dfKv_vAov",
        "outputId": "b0c92701-2001-4422-975c-856cf9032792"
      },
      "execution_count": 75,
      "outputs": [
        {
          "output_type": "execute_result",
          "data": {
            "text/plain": [
              "                               Column  \\\n",
              "0                             case_id   \n",
              "1                       Hospital_code   \n",
              "2                  Hospital_type_code   \n",
              "3                  City_Code_Hospital   \n",
              "4                Hospital_region_code   \n",
              "5   Available_Extra_Rooms_in_Hospital   \n",
              "6                          Department   \n",
              "7                           Ward_Type   \n",
              "8                  Ward_Facility_Code   \n",
              "9                           Bed_Grade   \n",
              "10                          patientid   \n",
              "11                  City_Code_Patient   \n",
              "12                  Type_of_Admission   \n",
              "13                Severity_of_Illness   \n",
              "14              Visitors_with_Patient   \n",
              "15                                Age   \n",
              "16                  Admission_Deposit   \n",
              "17                               Stay   \n",
              "\n",
              "                                          Description  \n",
              "0   It is identity number given by hospital admini...  \n",
              "1   It is the code (identity number) given to the ...  \n",
              "2   It is the unique code given to the type of hos...  \n",
              "3   It is the code given to the city where the hos...  \n",
              "4   It is the code given to the region where the h...  \n",
              "5   It will display the number of rooms that are s...  \n",
              "6   The department that is overlooking the patient...  \n",
              "7   The unique code given to the type of ward to w...  \n",
              "8   The unique code given to the facility in the w...  \n",
              "9   It is the quality or condition of the bed in t...  \n",
              "10  It is the unique identity value given to the p...  \n",
              "11  It is the unique identity code given to the ci...  \n",
              "12  It is the admission type registered in the hos...  \n",
              "13  It is the severity level of the patients’ illn...  \n",
              "14  Number of the visitors with the patients to ta...  \n",
              "15  It is the age of patients. It is given in peri...  \n",
              "16  It is the deposit amount that the patient paid...  \n",
              "17  It is the Length Of Stay (LOS)  of patients. I...  "
            ],
            "text/html": [
              "\n",
              "  <div id=\"df-40c4cecc-ab10-4735-84b8-d6e6ec2eefbf\">\n",
              "    <div class=\"colab-df-container\">\n",
              "      <div>\n",
              "<style scoped>\n",
              "    .dataframe tbody tr th:only-of-type {\n",
              "        vertical-align: middle;\n",
              "    }\n",
              "\n",
              "    .dataframe tbody tr th {\n",
              "        vertical-align: top;\n",
              "    }\n",
              "\n",
              "    .dataframe thead th {\n",
              "        text-align: right;\n",
              "    }\n",
              "</style>\n",
              "<table border=\"1\" class=\"dataframe\">\n",
              "  <thead>\n",
              "    <tr style=\"text-align: right;\">\n",
              "      <th></th>\n",
              "      <th>Column</th>\n",
              "      <th>Description</th>\n",
              "    </tr>\n",
              "  </thead>\n",
              "  <tbody>\n",
              "    <tr>\n",
              "      <th>0</th>\n",
              "      <td>case_id</td>\n",
              "      <td>It is identity number given by hospital admini...</td>\n",
              "    </tr>\n",
              "    <tr>\n",
              "      <th>1</th>\n",
              "      <td>Hospital_code</td>\n",
              "      <td>It is the code (identity number) given to the ...</td>\n",
              "    </tr>\n",
              "    <tr>\n",
              "      <th>2</th>\n",
              "      <td>Hospital_type_code</td>\n",
              "      <td>It is the unique code given to the type of hos...</td>\n",
              "    </tr>\n",
              "    <tr>\n",
              "      <th>3</th>\n",
              "      <td>City_Code_Hospital</td>\n",
              "      <td>It is the code given to the city where the hos...</td>\n",
              "    </tr>\n",
              "    <tr>\n",
              "      <th>4</th>\n",
              "      <td>Hospital_region_code</td>\n",
              "      <td>It is the code given to the region where the h...</td>\n",
              "    </tr>\n",
              "    <tr>\n",
              "      <th>5</th>\n",
              "      <td>Available_Extra_Rooms_in_Hospital</td>\n",
              "      <td>It will display the number of rooms that are s...</td>\n",
              "    </tr>\n",
              "    <tr>\n",
              "      <th>6</th>\n",
              "      <td>Department</td>\n",
              "      <td>The department that is overlooking the patient...</td>\n",
              "    </tr>\n",
              "    <tr>\n",
              "      <th>7</th>\n",
              "      <td>Ward_Type</td>\n",
              "      <td>The unique code given to the type of ward to w...</td>\n",
              "    </tr>\n",
              "    <tr>\n",
              "      <th>8</th>\n",
              "      <td>Ward_Facility_Code</td>\n",
              "      <td>The unique code given to the facility in the w...</td>\n",
              "    </tr>\n",
              "    <tr>\n",
              "      <th>9</th>\n",
              "      <td>Bed_Grade</td>\n",
              "      <td>It is the quality or condition of the bed in t...</td>\n",
              "    </tr>\n",
              "    <tr>\n",
              "      <th>10</th>\n",
              "      <td>patientid</td>\n",
              "      <td>It is the unique identity value given to the p...</td>\n",
              "    </tr>\n",
              "    <tr>\n",
              "      <th>11</th>\n",
              "      <td>City_Code_Patient</td>\n",
              "      <td>It is the unique identity code given to the ci...</td>\n",
              "    </tr>\n",
              "    <tr>\n",
              "      <th>12</th>\n",
              "      <td>Type_of_Admission</td>\n",
              "      <td>It is the admission type registered in the hos...</td>\n",
              "    </tr>\n",
              "    <tr>\n",
              "      <th>13</th>\n",
              "      <td>Severity_of_Illness</td>\n",
              "      <td>It is the severity level of the patients’ illn...</td>\n",
              "    </tr>\n",
              "    <tr>\n",
              "      <th>14</th>\n",
              "      <td>Visitors_with_Patient</td>\n",
              "      <td>Number of the visitors with the patients to ta...</td>\n",
              "    </tr>\n",
              "    <tr>\n",
              "      <th>15</th>\n",
              "      <td>Age</td>\n",
              "      <td>It is the age of patients. It is given in peri...</td>\n",
              "    </tr>\n",
              "    <tr>\n",
              "      <th>16</th>\n",
              "      <td>Admission_Deposit</td>\n",
              "      <td>It is the deposit amount that the patient paid...</td>\n",
              "    </tr>\n",
              "    <tr>\n",
              "      <th>17</th>\n",
              "      <td>Stay</td>\n",
              "      <td>It is the Length Of Stay (LOS)  of patients. I...</td>\n",
              "    </tr>\n",
              "  </tbody>\n",
              "</table>\n",
              "</div>\n",
              "      <button class=\"colab-df-convert\" onclick=\"convertToInteractive('df-40c4cecc-ab10-4735-84b8-d6e6ec2eefbf')\"\n",
              "              title=\"Convert this dataframe to an interactive table.\"\n",
              "              style=\"display:none;\">\n",
              "        \n",
              "  <svg xmlns=\"http://www.w3.org/2000/svg\" height=\"24px\"viewBox=\"0 0 24 24\"\n",
              "       width=\"24px\">\n",
              "    <path d=\"M0 0h24v24H0V0z\" fill=\"none\"/>\n",
              "    <path d=\"M18.56 5.44l.94 2.06.94-2.06 2.06-.94-2.06-.94-.94-2.06-.94 2.06-2.06.94zm-11 1L8.5 8.5l.94-2.06 2.06-.94-2.06-.94L8.5 2.5l-.94 2.06-2.06.94zm10 10l.94 2.06.94-2.06 2.06-.94-2.06-.94-.94-2.06-.94 2.06-2.06.94z\"/><path d=\"M17.41 7.96l-1.37-1.37c-.4-.4-.92-.59-1.43-.59-.52 0-1.04.2-1.43.59L10.3 9.45l-7.72 7.72c-.78.78-.78 2.05 0 2.83L4 21.41c.39.39.9.59 1.41.59.51 0 1.02-.2 1.41-.59l7.78-7.78 2.81-2.81c.8-.78.8-2.07 0-2.86zM5.41 20L4 18.59l7.72-7.72 1.47 1.35L5.41 20z\"/>\n",
              "  </svg>\n",
              "      </button>\n",
              "      \n",
              "  <style>\n",
              "    .colab-df-container {\n",
              "      display:flex;\n",
              "      flex-wrap:wrap;\n",
              "      gap: 12px;\n",
              "    }\n",
              "\n",
              "    .colab-df-convert {\n",
              "      background-color: #E8F0FE;\n",
              "      border: none;\n",
              "      border-radius: 50%;\n",
              "      cursor: pointer;\n",
              "      display: none;\n",
              "      fill: #1967D2;\n",
              "      height: 32px;\n",
              "      padding: 0 0 0 0;\n",
              "      width: 32px;\n",
              "    }\n",
              "\n",
              "    .colab-df-convert:hover {\n",
              "      background-color: #E2EBFA;\n",
              "      box-shadow: 0px 1px 2px rgba(60, 64, 67, 0.3), 0px 1px 3px 1px rgba(60, 64, 67, 0.15);\n",
              "      fill: #174EA6;\n",
              "    }\n",
              "\n",
              "    [theme=dark] .colab-df-convert {\n",
              "      background-color: #3B4455;\n",
              "      fill: #D2E3FC;\n",
              "    }\n",
              "\n",
              "    [theme=dark] .colab-df-convert:hover {\n",
              "      background-color: #434B5C;\n",
              "      box-shadow: 0px 1px 3px 1px rgba(0, 0, 0, 0.15);\n",
              "      filter: drop-shadow(0px 1px 2px rgba(0, 0, 0, 0.3));\n",
              "      fill: #FFFFFF;\n",
              "    }\n",
              "  </style>\n",
              "\n",
              "      <script>\n",
              "        const buttonEl =\n",
              "          document.querySelector('#df-40c4cecc-ab10-4735-84b8-d6e6ec2eefbf button.colab-df-convert');\n",
              "        buttonEl.style.display =\n",
              "          google.colab.kernel.accessAllowed ? 'block' : 'none';\n",
              "\n",
              "        async function convertToInteractive(key) {\n",
              "          const element = document.querySelector('#df-40c4cecc-ab10-4735-84b8-d6e6ec2eefbf');\n",
              "          const dataTable =\n",
              "            await google.colab.kernel.invokeFunction('convertToInteractive',\n",
              "                                                     [key], {});\n",
              "          if (!dataTable) return;\n",
              "\n",
              "          const docLinkHtml = 'Like what you see? Visit the ' +\n",
              "            '<a target=\"_blank\" href=https://colab.research.google.com/notebooks/data_table.ipynb>data table notebook</a>'\n",
              "            + ' to learn more about interactive tables.';\n",
              "          element.innerHTML = '';\n",
              "          dataTable['output_type'] = 'display_data';\n",
              "          await google.colab.output.renderOutput(dataTable, element);\n",
              "          const docLink = document.createElement('div');\n",
              "          docLink.innerHTML = docLinkHtml;\n",
              "          element.appendChild(docLink);\n",
              "        }\n",
              "      </script>\n",
              "    </div>\n",
              "  </div>\n",
              "  "
            ]
          },
          "metadata": {},
          "execution_count": 75
        }
      ]
    },
    {
      "cell_type": "markdown",
      "source": [
        "# Analysis of dataset"
      ],
      "metadata": {
        "id": "Z39Q97uduvdV"
      }
    },
    {
      "cell_type": "markdown",
      "source": [
        "Distribution of values"
      ],
      "metadata": {
        "id": "wO7OR_i9t2u4"
      }
    },
    {
      "cell_type": "markdown",
      "source": [
        "**Hospital_code**"
      ],
      "metadata": {
        "id": "yqI-vajZvP75"
      }
    },
    {
      "cell_type": "code",
      "source": [
        "train.Hospital_code.value_counts() "
      ],
      "metadata": {
        "colab": {
          "base_uri": "https://localhost:8080/"
        },
        "id": "3tb159cSvSnN",
        "outputId": "c29b8252-6896-4383-fc8f-418ed2a0fce2"
      },
      "execution_count": 76,
      "outputs": [
        {
          "output_type": "execute_result",
          "data": {
            "text/plain": [
              "26    25225\n",
              "23    19505\n",
              "19    16825\n",
              "6     14847\n",
              "28    13341\n",
              "14    12594\n",
              "11    12454\n",
              "27    11312\n",
              "29     8828\n",
              "9      8558\n",
              "12     8312\n",
              "32     8166\n",
              "25     7529\n",
              "10     7257\n",
              "15     6965\n",
              "21     6226\n",
              "24     5863\n",
              "17     4319\n",
              "3      4308\n",
              "1      4111\n",
              "13     3974\n",
              "2      3940\n",
              "30     3707\n",
              "5      3684\n",
              "31     3051\n",
              "22     2740\n",
              "8      2679\n",
              "18     2164\n",
              "16     2119\n",
              "4       937\n",
              "20      905\n",
              "7       864\n",
              "Name: Hospital_code, dtype: int64"
            ]
          },
          "metadata": {},
          "execution_count": 76
        }
      ]
    },
    {
      "cell_type": "code",
      "source": [
        "plt.figure(figsize=(10,7))\n",
        "train.Hospital_code.value_counts().plot(kind=\"bar\", color = ['green'])"
      ],
      "metadata": {
        "colab": {
          "base_uri": "https://localhost:8080/",
          "height": 448
        },
        "id": "mRIxOMmQvZiI",
        "outputId": "de44879c-8a61-4a8e-d788-89bd59d071d1"
      },
      "execution_count": 77,
      "outputs": [
        {
          "output_type": "execute_result",
          "data": {
            "text/plain": [
              "<matplotlib.axes._subplots.AxesSubplot at 0x7f1b1c4f53d0>"
            ]
          },
          "metadata": {},
          "execution_count": 77
        },
        {
          "output_type": "display_data",
          "data": {
            "text/plain": [
              "<Figure size 720x504 with 1 Axes>"
            ],
            "image/png": "[encoded data removed]"
          },
          "metadata": {}
        }
      ]
    },
    {
      "cell_type": "markdown",
      "source": [
        "**Stay**"
      ],
      "metadata": {
        "id": "DKUl5TnouHUH"
      }
    },
    {
      "cell_type": "code",
      "source": [
        "train.Stay.value_counts() "
      ],
      "metadata": {
        "colab": {
          "base_uri": "https://localhost:8080/"
        },
        "id": "Ee2iw2_GtxtO",
        "outputId": "c4a5f5fd-bc8c-4389-faeb-df20a15d90d1"
      },
      "execution_count": 78,
      "outputs": [
        {
          "output_type": "execute_result",
          "data": {
            "text/plain": [
              "21-30                 66497\n",
              "11-20                 55691\n",
              "31-40                 41951\n",
              "51-60                 27458\n",
              "0-10                  15866\n",
              "41-50                  8665\n",
              "71-80                  8061\n",
              "More than 100 Days     5029\n",
              "81-90                  3821\n",
              "91-100                 2179\n",
              "61-70                  2090\n",
              "Name: Stay, dtype: int64"
            ]
          },
          "metadata": {},
          "execution_count": 78
        }
      ]
    },
    {
      "cell_type": "code",
      "source": [
        "# Distribution of target feature / Stay\n",
        "plt.figure(figsize=(10,7))\n",
        "train.Stay.value_counts().plot(kind=\"bar\", color = ['Blue'])"
      ],
      "metadata": {
        "colab": {
          "base_uri": "https://localhost:8080/",
          "height": 536
        },
        "id": "UEMLgdGSuM70",
        "outputId": "19e04dd0-9086-4a55-8469-e8f397c0961a"
      },
      "execution_count": 79,
      "outputs": [
        {
          "output_type": "execute_result",
          "data": {
            "text/plain": [
              "<matplotlib.axes._subplots.AxesSubplot at 0x7f1b1c3f7b50>"
            ]
          },
          "metadata": {},
          "execution_count": 79
        },
        {
          "output_type": "display_data",
          "data": {
            "text/plain": [
              "<Figure size 720x504 with 1 Axes>"
            ],
            "image/png": "[encoded data removed]"
          },
          "metadata": {}
        }
      ]
    },
    {
      "cell_type": "markdown",
      "source": [
        "**Age**"
      ],
      "metadata": {
        "id": "PMgfVpuAuTvk"
      }
    },
    {
      "cell_type": "code",
      "source": [
        "train.Age.value_counts()"
      ],
      "metadata": {
        "colab": {
          "base_uri": "https://localhost:8080/"
        },
        "id": "bY2h1sEGuRPp",
        "outputId": "6f69722d-790a-42b4-8847-82d3985bc08f"
      },
      "execution_count": 80,
      "outputs": [
        {
          "output_type": "execute_result",
          "data": {
            "text/plain": [
              "41-50     48272\n",
              "31-40     48106\n",
              "51-60     36969\n",
              "21-30     28555\n",
              "71-80     28552\n",
              "61-70     26139\n",
              "11-20     10141\n",
              "81-90      6578\n",
              "0-10       3030\n",
              "91-100      966\n",
              "Name: Age, dtype: int64"
            ]
          },
          "metadata": {},
          "execution_count": 80
        }
      ]
    },
    {
      "cell_type": "code",
      "source": [
        "#Age distribution\n",
        "plt.figure(figsize=(10,7))\n",
        "train.Age.value_counts().plot(kind=\"bar\", color = ['Yellow'])"
      ],
      "metadata": {
        "colab": {
          "base_uri": "https://localhost:8080/",
          "height": 471
        },
        "id": "FhPCpMk-ubS5",
        "outputId": "3c4c8a10-7cb3-465a-c6ab-ba6abd709126"
      },
      "execution_count": 81,
      "outputs": [
        {
          "output_type": "execute_result",
          "data": {
            "text/plain": [
              "<matplotlib.axes._subplots.AxesSubplot at 0x7f1b1c4567d0>"
            ]
          },
          "metadata": {},
          "execution_count": 81
        },
        {
          "output_type": "display_data",
          "data": {
            "text/plain": [
              "<Figure size 720x504 with 1 Axes>"
            ],
            "image/png": "[encoded data removed]"
          },
          "metadata": {}
        }
      ]
    },
    {
      "cell_type": "markdown",
      "source": [
        "****"
      ],
      "metadata": {
        "id": "4f-GZK3fvIHb"
      }
    },
    {
      "cell_type": "markdown",
      "source": [
        "**Hospital_type_code**"
      ],
      "metadata": {
        "id": "Unc-SpggxmmN"
      }
    },
    {
      "cell_type": "code",
      "source": [
        "train.Hospital_type_code.value_counts()"
      ],
      "metadata": {
        "colab": {
          "base_uri": "https://localhost:8080/"
        },
        "id": "uaNP5-b5xlu_",
        "outputId": "1033205e-bf64-46c4-cbb8-0da4b8aa6f60"
      },
      "execution_count": 82,
      "outputs": [
        {
          "output_type": "execute_result",
          "data": {
            "text/plain": [
              "a    107545\n",
              "b     51925\n",
              "c     32995\n",
              "e     19105\n",
              "d     14833\n",
              "f      8166\n",
              "g      2740\n",
              "Name: Hospital_type_code, dtype: int64"
            ]
          },
          "metadata": {},
          "execution_count": 82
        }
      ]
    },
    {
      "cell_type": "code",
      "source": [
        "#Hospital_type_code distribution\n",
        "plt.figure(figsize=(10,7))\n",
        "train.Hospital_type_code.value_counts().plot(kind=\"bar\", color = ['Red'])"
      ],
      "metadata": {
        "colab": {
          "base_uri": "https://localhost:8080/",
          "height": 442
        },
        "id": "aoReCKA1ugFC",
        "outputId": "989aafcc-b074-4675-80ac-5b395dc39dbc"
      },
      "execution_count": 83,
      "outputs": [
        {
          "output_type": "execute_result",
          "data": {
            "text/plain": [
              "<matplotlib.axes._subplots.AxesSubplot at 0x7f1b1c39f050>"
            ]
          },
          "metadata": {},
          "execution_count": 83
        },
        {
          "output_type": "display_data",
          "data": {
            "text/plain": [
              "<Figure size 720x504 with 1 Axes>"
            ],
            "image/png": "[encoded data removed]"
          },
          "metadata": {}
        }
      ]
    },
    {
      "cell_type": "markdown",
      "source": [
        "**Hospital_region_code**"
      ],
      "metadata": {
        "id": "lzx-1llgyGZ0"
      }
    },
    {
      "cell_type": "code",
      "source": [
        "train.Hospital_region_code.value_counts()"
      ],
      "metadata": {
        "colab": {
          "base_uri": "https://localhost:8080/"
        },
        "id": "JtPVsmQ2yF_w",
        "outputId": "0dd77e99-85cf-4bc9-8a03-1a1992dd1824"
      },
      "execution_count": 84,
      "outputs": [
        {
          "output_type": "execute_result",
          "data": {
            "text/plain": [
              "X    99568\n",
              "Y    92214\n",
              "Z    45527\n",
              "Name: Hospital_region_code, dtype: int64"
            ]
          },
          "metadata": {},
          "execution_count": 84
        }
      ]
    },
    {
      "cell_type": "code",
      "source": [
        "#Hospital_region_code distribution\n",
        "plt.figure(figsize=(10,7))\n",
        "train.Hospital_region_code.value_counts().plot(kind=\"bar\", color = ['Violet'])"
      ],
      "metadata": {
        "colab": {
          "base_uri": "https://localhost:8080/",
          "height": 442
        },
        "id": "qLa-OKqNx-OD",
        "outputId": "70c39370-05e7-48f4-c4f4-059da55b26b4"
      },
      "execution_count": 85,
      "outputs": [
        {
          "output_type": "execute_result",
          "data": {
            "text/plain": [
              "<matplotlib.axes._subplots.AxesSubplot at 0x7f1b1c2b6390>"
            ]
          },
          "metadata": {},
          "execution_count": 85
        },
        {
          "output_type": "display_data",
          "data": {
            "text/plain": [
              "<Figure size 720x504 with 1 Axes>"
            ],
            "image/png": "[encoded data removed]"
          },
          "metadata": {}
        }
      ]
    },
    {
      "cell_type": "markdown",
      "source": [
        "**Available_Extra_Rooms_in_Hospital**"
      ],
      "metadata": {
        "id": "AlP9GyCwyl6s"
      }
    },
    {
      "cell_type": "code",
      "source": [
        "train.Available_Extra_Rooms_in_Hospital.value_counts()"
      ],
      "metadata": {
        "colab": {
          "base_uri": "https://localhost:8080/"
        },
        "id": "wn51fM70ygDB",
        "outputId": "85e1d132-a2a3-4eb9-9d4b-9e7449b4e44c"
      },
      "execution_count": 86,
      "outputs": [
        {
          "output_type": "execute_result",
          "data": {
            "text/plain": [
              "2     74877\n",
              "3     68517\n",
              "4     67756\n",
              "5     13879\n",
              "6      5344\n",
              "1      4208\n",
              "7      1876\n",
              "8       622\n",
              "9       144\n",
              "10       46\n",
              "11       13\n",
              "12       11\n",
              "0        11\n",
              "21        2\n",
              "20        1\n",
              "14        1\n",
              "13        1\n",
              "Name: Available_Extra_Rooms_in_Hospital, dtype: int64"
            ]
          },
          "metadata": {},
          "execution_count": 86
        }
      ]
    },
    {
      "cell_type": "code",
      "source": [
        "#Available_Extra_Rooms_in_Hospital distribution\n",
        "plt.figure(figsize=(10,7))\n",
        "train.Available_Extra_Rooms_in_Hospital.value_counts().plot(kind=\"bar\", color = ['green'])"
      ],
      "metadata": {
        "colab": {
          "base_uri": "https://localhost:8080/",
          "height": 448
        },
        "id": "RLD3VHHCy0Mh",
        "outputId": "5f7f7cd6-294e-47d4-c43c-f3d3cea9f08a"
      },
      "execution_count": 87,
      "outputs": [
        {
          "output_type": "execute_result",
          "data": {
            "text/plain": [
              "<matplotlib.axes._subplots.AxesSubplot at 0x7f1b1c296150>"
            ]
          },
          "metadata": {},
          "execution_count": 87
        },
        {
          "output_type": "display_data",
          "data": {
            "text/plain": [
              "<Figure size 720x504 with 1 Axes>"
            ],
            "image/png": "[encoded data removed]"
          },
          "metadata": {}
        }
      ]
    },
    {
      "cell_type": "markdown",
      "source": [
        "**Department**"
      ],
      "metadata": {
        "id": "MOTVaGW-zO2w"
      }
    },
    {
      "cell_type": "code",
      "source": [
        "train.Department.value_counts()"
      ],
      "metadata": {
        "colab": {
          "base_uri": "https://localhost:8080/"
        },
        "id": "xdSOMSFuzKgy",
        "outputId": "c3204f1a-a069-4a35-8b45-387b4b26523d"
      },
      "execution_count": 88,
      "outputs": [
        {
          "output_type": "execute_result",
          "data": {
            "text/plain": [
              "gynecology            185062\n",
              "anesthesia             22557\n",
              "radiotherapy           21725\n",
              "TB & Chest disease      7017\n",
              "surgery                  948\n",
              "Name: Department, dtype: int64"
            ]
          },
          "metadata": {},
          "execution_count": 88
        }
      ]
    },
    {
      "cell_type": "code",
      "source": [
        "#Department distribution\n",
        "plt.figure(figsize=(10,7))\n",
        "train.Department.value_counts().plot(kind=\"bar\", color = ['white'])"
      ],
      "metadata": {
        "colab": {
          "base_uri": "https://localhost:8080/",
          "height": 532
        },
        "id": "8TUr6aIKzeEF",
        "outputId": "105a990f-8b8d-406d-8ef8-74ae4eeabb15"
      },
      "execution_count": 89,
      "outputs": [
        {
          "output_type": "execute_result",
          "data": {
            "text/plain": [
              "<matplotlib.axes._subplots.AxesSubplot at 0x7f1b1c1f6410>"
            ]
          },
          "metadata": {},
          "execution_count": 89
        },
        {
          "output_type": "display_data",
          "data": {
            "text/plain": [
              "<Figure size 720x504 with 1 Axes>"
            ],
            "image/png": "[encoded data removed]"
          },
          "metadata": {}
        }
      ]
    },
    {
      "cell_type": "markdown",
      "source": [
        "**Ward_Type**"
      ],
      "metadata": {
        "id": "81FQWKar0GYT"
      }
    },
    {
      "cell_type": "code",
      "source": [
        "train.Ward_Type.value_counts()"
      ],
      "metadata": {
        "colab": {
          "base_uri": "https://localhost:8080/"
        },
        "id": "4yOOH3tVztxb",
        "outputId": "39cf0c82-9afe-41be-9bbe-5157cfca0ef8"
      },
      "execution_count": 90,
      "outputs": [
        {
          "output_type": "execute_result",
          "data": {
            "text/plain": [
              "R    95788\n",
              "Q    77707\n",
              "S    59022\n",
              "P     3691\n",
              "T     1092\n",
              "U        9\n",
              "Name: Ward_Type, dtype: int64"
            ]
          },
          "metadata": {},
          "execution_count": 90
        }
      ]
    },
    {
      "cell_type": "code",
      "source": [
        "#Ward_Type distribution\n",
        "plt.figure(figsize=(10,7))\n",
        "train.Ward_Type.value_counts().plot(kind=\"bar\", color = ['cyan'])"
      ],
      "metadata": {
        "colab": {
          "base_uri": "https://localhost:8080/",
          "height": 445
        },
        "id": "1QJfdG-M0Jyd",
        "outputId": "e9fdf252-02a4-45ca-d3c7-f78619220e32"
      },
      "execution_count": 91,
      "outputs": [
        {
          "output_type": "execute_result",
          "data": {
            "text/plain": [
              "<matplotlib.axes._subplots.AxesSubplot at 0x7f1b1c156350>"
            ]
          },
          "metadata": {},
          "execution_count": 91
        },
        {
          "output_type": "display_data",
          "data": {
            "text/plain": [
              "<Figure size 720x504 with 1 Axes>"
            ],
            "image/png": "[encoded data removed]"
          },
          "metadata": {}
        }
      ]
    },
    {
      "cell_type": "markdown",
      "source": [
        "**Ward_Facility_Code**"
      ],
      "metadata": {
        "id": "wQHzfR840eHD"
      }
    },
    {
      "cell_type": "code",
      "source": [
        "train.Ward_Facility_Code.value_counts()"
      ],
      "metadata": {
        "colab": {
          "base_uri": "https://localhost:8080/"
        },
        "id": "tt2bphi10b56",
        "outputId": "41297d30-de22-4ad4-d577-35183411c721"
      },
      "execution_count": 92,
      "outputs": [
        {
          "output_type": "execute_result",
          "data": {
            "text/plain": [
              "F    84438\n",
              "E    41246\n",
              "D    38584\n",
              "C    28137\n",
              "B    25493\n",
              "A    19411\n",
              "Name: Ward_Facility_Code, dtype: int64"
            ]
          },
          "metadata": {},
          "execution_count": 92
        }
      ]
    },
    {
      "cell_type": "code",
      "source": [
        "#Ward_Facility_Code distribution\n",
        "plt.figure(figsize=(10,7))\n",
        "train.Ward_Facility_Code.value_counts().plot(kind=\"bar\", color = ['magenta'])"
      ],
      "metadata": {
        "colab": {
          "base_uri": "https://localhost:8080/",
          "height": 443
        },
        "id": "aqjlf-mD0oRE",
        "outputId": "a3621f1b-75d7-4b30-f777-9c5ea47f99de"
      },
      "execution_count": 93,
      "outputs": [
        {
          "output_type": "execute_result",
          "data": {
            "text/plain": [
              "<matplotlib.axes._subplots.AxesSubplot at 0x7f1b1c0bb0d0>"
            ]
          },
          "metadata": {},
          "execution_count": 93
        },
        {
          "output_type": "display_data",
          "data": {
            "text/plain": [
              "<Figure size 720x504 with 1 Axes>"
            ],
            "image/png": "[encoded data removed]"
          },
          "metadata": {}
        }
      ]
    },
    {
      "cell_type": "markdown",
      "source": [
        "**Visitors_with_Patient**"
      ],
      "metadata": {
        "id": "ScExTY1u02Eo"
      }
    },
    {
      "cell_type": "code",
      "source": [
        "train.Visitors_with_Patient.value_counts()"
      ],
      "metadata": {
        "colab": {
          "base_uri": "https://localhost:8080/"
        },
        "id": "y1BucFmm00E1",
        "outputId": "a6241204-0140-48f6-a226-75ca31ec0349"
      },
      "execution_count": 94,
      "outputs": [
        {
          "output_type": "execute_result",
          "data": {
            "text/plain": [
              "2.0     103037\n",
              "4.0      59068\n",
              "3.0      43860\n",
              "6.0      14211\n",
              "5.0       6992\n",
              "8.0       3662\n",
              "7.0       1888\n",
              "9.0       1024\n",
              "10.0       882\n",
              "1.0        871\n",
              "12.0       757\n",
              "11.0       242\n",
              "16.0       220\n",
              "15.0       146\n",
              "14.0       138\n",
              "13.0        84\n",
              "24.0        63\n",
              "20.0        46\n",
              "18.0        35\n",
              "22.0        16\n",
              "17.0        15\n",
              "0.0         13\n",
              "30.0         9\n",
              "23.0         8\n",
              "21.0         8\n",
              "19.0         6\n",
              "25.0         6\n",
              "32.0         1\n",
              "Name: Visitors_with_Patient, dtype: int64"
            ]
          },
          "metadata": {},
          "execution_count": 94
        }
      ]
    },
    {
      "cell_type": "code",
      "source": [
        "#Visitors_with_Patient distribution\n",
        "plt.figure(figsize=(10,7))\n",
        "train.Visitors_with_Patient.value_counts().plot(kind=\"bar\", color = ['white'])"
      ],
      "metadata": {
        "colab": {
          "base_uri": "https://localhost:8080/",
          "height": 458
        },
        "id": "kFRo_CWv1JP9",
        "outputId": "9aa44446-1fde-43fa-e1f2-0996a6eb3e71"
      },
      "execution_count": 95,
      "outputs": [
        {
          "output_type": "execute_result",
          "data": {
            "text/plain": [
              "<matplotlib.axes._subplots.AxesSubplot at 0x7f1b1c047e50>"
            ]
          },
          "metadata": {},
          "execution_count": 95
        },
        {
          "output_type": "display_data",
          "data": {
            "text/plain": [
              "<Figure size 720x504 with 1 Axes>"
            ],
            "image/png": "[encoded data removed]"
          },
          "metadata": {}
        }
      ]
    },
    {
      "cell_type": "markdown",
      "source": [
        "Severity of Illness"
      ],
      "metadata": {
        "id": "UQoC71qQ1VG8"
      }
    },
    {
      "cell_type": "code",
      "source": [
        "train.Severity_of_Illness.value_counts()"
      ],
      "metadata": {
        "colab": {
          "base_uri": "https://localhost:8080/"
        },
        "id": "wQMYSe_91TKq",
        "outputId": "ea204d86-07a7-4721-f86f-0efaefc46327"
      },
      "execution_count": 96,
      "outputs": [
        {
          "output_type": "execute_result",
          "data": {
            "text/plain": [
              "Moderate    134324\n",
              "Minor        55665\n",
              "Extreme      47319\n",
              "Min              1\n",
              "Name: Severity_of_Illness, dtype: int64"
            ]
          },
          "metadata": {},
          "execution_count": 96
        }
      ]
    },
    {
      "cell_type": "code",
      "source": [
        "#Severity_of_Illness distribution\n",
        "plt.figure(figsize=(10,7))\n",
        "train.Severity_of_Illness.value_counts().plot(kind=\"bar\", color = ['red'])"
      ],
      "metadata": {
        "colab": {
          "base_uri": "https://localhost:8080/",
          "height": 484
        },
        "id": "-8ulDE6W1iqG",
        "outputId": "87bf33f2-3ed3-4954-b8d7-24e8dd706125"
      },
      "execution_count": 97,
      "outputs": [
        {
          "output_type": "execute_result",
          "data": {
            "text/plain": [
              "<matplotlib.axes._subplots.AxesSubplot at 0x7f1b1bf42d50>"
            ]
          },
          "metadata": {},
          "execution_count": 97
        },
        {
          "output_type": "display_data",
          "data": {
            "text/plain": [
              "<Figure size 720x504 with 1 Axes>"
            ],
            "image/png": "[encoded data removed]"
          },
          "metadata": {}
        }
      ]
    },
    {
      "cell_type": "markdown",
      "source": [
        "#Unique values of columns"
      ],
      "metadata": {
        "id": "S3QcuhHv2D9z"
      }
    },
    {
      "cell_type": "code",
      "source": [
        "for features in train.columns:\n",
        "    print('*-----------------------------------------------------------------------------------------------------*')\n",
        "    print(' Unique Values for {}'.format(features))\n",
        "    print(train[features].unique())\n",
        "    print('*-----------------------------------------------------------------------------------------------------*')\n",
        "    print()"
      ],
      "metadata": {
        "colab": {
          "base_uri": "https://localhost:8080/"
        },
        "id": "sq0vlgPn1tBe",
        "outputId": "80dfe6e4-392f-4066-e5ff-a3dadda30e69"
      },
      "execution_count": 98,
      "outputs": [
        {
          "output_type": "stream",
          "name": "stdout",
          "text": [
            "*-----------------------------------------------------------------------------------------------------*\n",
            " Unique Values for case_id\n",
            "[     1      2      3 ... 237307 237308 237309]\n",
            "*-----------------------------------------------------------------------------------------------------*\n",
            "\n",
            "*-----------------------------------------------------------------------------------------------------*\n",
            " Unique Values for Hospital_code\n",
            "[ 8  2 10 26 23 32  1 22 16  9  6 29 12  3 21 28 27 19  5 14 13 31 24 17\n",
            " 25 15 11 30 18  4  7 20]\n",
            "*-----------------------------------------------------------------------------------------------------*\n",
            "\n",
            "*-----------------------------------------------------------------------------------------------------*\n",
            " Unique Values for Hospital_type_code\n",
            "['c' 'e' 'b' 'a' 'f' 'd' 'g']\n",
            "*-----------------------------------------------------------------------------------------------------*\n",
            "\n",
            "*-----------------------------------------------------------------------------------------------------*\n",
            " Unique Values for City_Code_Hospital\n",
            "[ 3  5  1  2  6  9 10  4 11  7 13]\n",
            "*-----------------------------------------------------------------------------------------------------*\n",
            "\n",
            "*-----------------------------------------------------------------------------------------------------*\n",
            " Unique Values for Hospital_region_code\n",
            "['Z' 'X' 'Y']\n",
            "*-----------------------------------------------------------------------------------------------------*\n",
            "\n",
            "*-----------------------------------------------------------------------------------------------------*\n",
            " Unique Values for Available_Extra_Rooms_in_Hospital\n",
            "[ 3  2  1  4  6  5  7  8  9 10 12  0 11 20 14 21 13]\n",
            "*-----------------------------------------------------------------------------------------------------*\n",
            "\n",
            "*-----------------------------------------------------------------------------------------------------*\n",
            " Unique Values for Department\n",
            "['radiotherapy' 'anesthesia' 'gynecology' 'TB & Chest disease' 'surgery']\n",
            "*-----------------------------------------------------------------------------------------------------*\n",
            "\n",
            "*-----------------------------------------------------------------------------------------------------*\n",
            " Unique Values for Ward_Type\n",
            "['R' 'S' 'Q' 'P' 'T' 'U']\n",
            "*-----------------------------------------------------------------------------------------------------*\n",
            "\n",
            "*-----------------------------------------------------------------------------------------------------*\n",
            " Unique Values for Ward_Facility_Code\n",
            "['F' 'E' 'D' 'B' 'A' 'C']\n",
            "*-----------------------------------------------------------------------------------------------------*\n",
            "\n",
            "*-----------------------------------------------------------------------------------------------------*\n",
            " Unique Values for Bed_Grade\n",
            "[ 2.  3.  4.  1. nan]\n",
            "*-----------------------------------------------------------------------------------------------------*\n",
            "\n",
            "*-----------------------------------------------------------------------------------------------------*\n",
            " Unique Values for patientid\n",
            "[31397 63418  8088 ... 37502 73756 21763]\n",
            "*-----------------------------------------------------------------------------------------------------*\n",
            "\n",
            "*-----------------------------------------------------------------------------------------------------*\n",
            " Unique Values for City_Code_Patient\n",
            "[ 7.  8.  2.  5.  6.  3.  4.  1.  9. 14. nan 25. 15. 12. 10. 28. 24. 23.\n",
            " 20. 11. 13. 21. 18. 16. 26. 27. 22. 19. 31. 34. 32. 30. 29. 37. 33. 35.\n",
            " 36.]\n",
            "*-----------------------------------------------------------------------------------------------------*\n",
            "\n",
            "*-----------------------------------------------------------------------------------------------------*\n",
            " Unique Values for Type_of_Admission\n",
            "['Emergency' 'Trauma' 'Urgent']\n",
            "*-----------------------------------------------------------------------------------------------------*\n",
            "\n",
            "*-----------------------------------------------------------------------------------------------------*\n",
            " Unique Values for Severity_of_Illness\n",
            "['Extreme' 'Moderate' 'Minor' 'Min']\n",
            "*-----------------------------------------------------------------------------------------------------*\n",
            "\n",
            "*-----------------------------------------------------------------------------------------------------*\n",
            " Unique Values for Visitors_with_Patient\n",
            "[ 2.  4.  3.  8.  6.  7. 13.  5.  1. 10. 15. 11. 12.  9. 24. 16. 14. 20.\n",
            "  0. 19. 18. 17. 23. 21. 32. 30. 22. 25. nan]\n",
            "*-----------------------------------------------------------------------------------------------------*\n",
            "\n",
            "*-----------------------------------------------------------------------------------------------------*\n",
            " Unique Values for Age\n",
            "['51-60' '71-80' '31-40' '41-50' '81-90' '61-70' '21-30' '11-20' '0-10'\n",
            " '91-100' nan]\n",
            "*-----------------------------------------------------------------------------------------------------*\n",
            "\n",
            "*-----------------------------------------------------------------------------------------------------*\n",
            " Unique Values for Admission_Deposit\n",
            "[4911. 5954. 4745. ... 2710. 2236.   nan]\n",
            "*-----------------------------------------------------------------------------------------------------*\n",
            "\n",
            "*-----------------------------------------------------------------------------------------------------*\n",
            " Unique Values for Stay\n",
            "['0-10' '41-50' '31-40' '11-20' '51-60' '21-30' '71-80'\n",
            " 'More than 100 Days' '81-90' '61-70' '91-100' nan]\n",
            "*-----------------------------------------------------------------------------------------------------*\n",
            "\n"
          ]
        }
      ]
    },
    {
      "cell_type": "markdown",
      "source": [
        "# Data Preprocessing & Feature Engineering"
      ],
      "metadata": {
        "id": "xRn6szDr2--m"
      }
    },
    {
      "cell_type": "markdown",
      "source": [
        " \n",
        "\n",
        "---\n",
        "\n",
        "\n",
        "***The following features may have relevance with the Length of Stay of a patient***\n",
        "\n",
        "**Department**: It Relates to the type of disease. Hence it will have impact on the length of stay of the patients\n",
        "\n",
        "**Type of Admission**: It Relates to patients' reason of admission to the hospital and definitely it will have impact on length of stay opf the patients\n",
        "\n",
        "**Severity of Illness**: It Relates to the curability of disease\n",
        "\n",
        "**Age**: Relates to the curability of diseaseThe following features may have relevance with the Length of Stay of a patient\n",
        "\n",
        "**Department**: It Relates to the type of disease. Hence it will have impact on the length of stay of the patients\n",
        "\n",
        "**Type of Admission**: It Relates to patients' reason of admission to the hospital and definitely it will have impact on length of stay opf the patients\n",
        "\n",
        "**Severity of Illness**: It Relates to the curability of disease\n",
        "\n",
        "**Age**: Relates to the curability of disease\n",
        "\n",
        "**Ward_Type**: Relates to the curability of disease\n",
        "\n",
        "\\\n",
        "\n",
        "---\n",
        "\n",
        "\\\n",
        "***The following features doesn't have relevance with the Length Of Stay(LOS) of Patients***\n",
        "\n",
        "**Hospital_region_code**: It is code given to the hospital region which is irrelevent to the Length of Stay.\n",
        "\n",
        "**Bed Grade**: It is the grade given to the quality of the bed in ward it is also irrelevent to the length of stay. \n",
        "\n",
        "**patientid**: It is the identity number or code given for the identification of the patient which is irrelevant to the length of stay.\n",
        "\n",
        "**City_Code_Patient**: It is the city code and irrelevant to the length of stay of patients.\n",
        "\n"
      ],
      "metadata": {
        "id": "JZetNfpp3NzD"
      }
    },
    {
      "cell_type": "code",
      "source": [
        "\"\"\"\n",
        "as 'Hospital_region_code', 'Bed_Grade', 'patientid', 'City_Code_Patient' are irrelevant to the health or \n",
        "length of stay of patients so lets drop these parameters from training and testing dataset to improve the performace of model (high accurracy)\n",
        "by reducing the complexity\n",
        "\"\"\"\n",
        "train = train.drop(['Hospital_region_code', 'Bed_Grade', 'patientid', 'City_Code_Patient'], axis = 1)\n",
        "test = test.drop(['Hospital_region_code', 'Bed_Grade', 'patientid', 'City_Code_Patient'], axis = 1)"
      ],
      "metadata": {
        "id": "pez1QNgZ28lF"
      },
      "execution_count": 99,
      "outputs": []
    },
    {
      "cell_type": "code",
      "source": [
        "# Combine test and train dataset for processing\n",
        "combined = [train, test]\n",
        "combined"
      ],
      "metadata": {
        "colab": {
          "base_uri": "https://localhost:8080/"
        },
        "id": "-_BU1GtU5gYm",
        "outputId": "199d588c-c413-4ba9-c7e6-547a657e8c89"
      },
      "execution_count": 100,
      "outputs": [
        {
          "output_type": "execute_result",
          "data": {
            "text/plain": [
              "[        case_id  Hospital_code Hospital_type_code  City_Code_Hospital  \\\n",
              " 0             1              8                  c                   3   \n",
              " 1             2              2                  c                   5   \n",
              " 2             3             10                  e                   1   \n",
              " 3             4             26                  b                   2   \n",
              " 4             5             26                  b                   2   \n",
              " ...         ...            ...                ...                 ...   \n",
              " 237304   237305             23                  a                   6   \n",
              " 237305   237306             19                  a                   7   \n",
              " 237306   237307              8                  c                   3   \n",
              " 237307   237308             21                  c                   3   \n",
              " 237308   237309              5                  a                   1   \n",
              " \n",
              "         Available_Extra_Rooms_in_Hospital    Department Ward_Type  \\\n",
              " 0                                       3  radiotherapy         R   \n",
              " 1                                       2  radiotherapy         S   \n",
              " 2                                       2    anesthesia         S   \n",
              " 3                                       2  radiotherapy         R   \n",
              " 4                                       2  radiotherapy         S   \n",
              " ...                                   ...           ...       ...   \n",
              " 237304                                  3    gynecology         R   \n",
              " 237305                                  2    gynecology         R   \n",
              " 237306                                  5    gynecology         Q   \n",
              " 237307                                  4  radiotherapy         S   \n",
              " 237308                                  3    gynecology         Q   \n",
              " \n",
              "        Ward_Facility_Code Type_of_Admission Severity_of_Illness  \\\n",
              " 0                       F         Emergency             Extreme   \n",
              " 1                       F            Trauma             Extreme   \n",
              " 2                       E            Trauma             Extreme   \n",
              " 3                       D            Trauma             Extreme   \n",
              " 4                       D            Trauma             Extreme   \n",
              " ...                   ...               ...                 ...   \n",
              " 237304                  F            Trauma             Extreme   \n",
              " 237305                  C         Emergency             Extreme   \n",
              " 237306                  F         Emergency               Minor   \n",
              " 237307                  A         Emergency               Minor   \n",
              " 237308                  E            Trauma                 Min   \n",
              " \n",
              "         Visitors_with_Patient    Age  Admission_Deposit   Stay  \n",
              " 0                         2.0  51-60             4911.0   0-10  \n",
              " 1                         2.0  51-60             5954.0  41-50  \n",
              " 2                         2.0  51-60             4745.0  31-40  \n",
              " 3                         2.0  51-60             7272.0  41-50  \n",
              " 4                         2.0  51-60             5558.0  41-50  \n",
              " ...                       ...    ...                ...    ...  \n",
              " 237304                    5.0  41-50             4298.0  51-60  \n",
              " 237305                    4.0  41-50             4165.0  31-40  \n",
              " 237306                    4.0  31-40             5075.0  21-30  \n",
              " 237307                    2.0  31-40             5179.0  11-20  \n",
              " 237308                    NaN    NaN                NaN    NaN  \n",
              " \n",
              " [237309 rows x 14 columns],\n",
              "         case_id  Hospital_code Hospital_type_code  City_Code_Hospital  \\\n",
              " 0        318439             21                  c                   3   \n",
              " 1        318440             29                  a                   4   \n",
              " 2        318441             26                  b                   2   \n",
              " 3        318442              6                  a                   6   \n",
              " 4        318443             28                  b                  11   \n",
              " ...         ...            ...                ...                 ...   \n",
              " 137052   455491             11                  b                   2   \n",
              " 137053   455492             25                  e                   1   \n",
              " 137054   455493             30                  c                   3   \n",
              " 137055   455494              5                  a                   1   \n",
              " 137056   455495              6                  a                   6   \n",
              " \n",
              "         Available_Extra_Rooms_in_Hospital    Department Ward_Type  \\\n",
              " 0                                       3    gynecology         S   \n",
              " 1                                       2    gynecology         S   \n",
              " 2                                       3    gynecology         Q   \n",
              " 3                                       3    gynecology         Q   \n",
              " 4                                       2    gynecology         R   \n",
              " ...                                   ...           ...       ...   \n",
              " 137052                                  4    anesthesia         Q   \n",
              " 137053                                  2  radiotherapy         R   \n",
              " 137054                                  2    anesthesia         R   \n",
              " 137055                                  2    anesthesia         R   \n",
              " 137056                                  3    gynecology         Q   \n",
              " \n",
              "        Ward_Facility_Code Type_of_Admission Severity_of_Illness  \\\n",
              " 0                       A         Emergency            Moderate   \n",
              " 1                       F            Trauma            Moderate   \n",
              " 2                       D         Emergency            Moderate   \n",
              " 3                       F            Trauma            Moderate   \n",
              " 4                       F            Trauma            Moderate   \n",
              " ...                   ...               ...                 ...   \n",
              " 137052                  D         Emergency               Minor   \n",
              " 137053                  E         Emergency            Moderate   \n",
              " 137054                  A            Urgent               Minor   \n",
              " 137055                  E            Trauma               Minor   \n",
              " 137056                  F            Trauma             Extreme   \n",
              " \n",
              "         Visitors_with_Patient    Age  Admission_Deposit  \n",
              " 0                           2  71-80               3095  \n",
              " 1                           4  71-80               4018  \n",
              " 2                           3  71-80               4492  \n",
              " 3                           3  71-80               4173  \n",
              " 4                           4  71-80               4161  \n",
              " ...                       ...    ...                ...  \n",
              " 137052                      4  41-50               6313  \n",
              " 137053                      2   0-10               3510  \n",
              " 137054                      2   0-10               7190  \n",
              " 137055                      2  41-50               5435  \n",
              " 137056                      5  51-60               4702  \n",
              " \n",
              " [137057 rows x 13 columns]]"
            ]
          },
          "metadata": {},
          "execution_count": 100
        }
      ]
    },
    {
      "cell_type": "markdown",
      "source": [
        "Lets encode the categorical data for traning the model"
      ],
      "metadata": {
        "id": "w5MGZdT06x4b"
      }
    },
    {
      "cell_type": "code",
      "source": [
        "# Encoding Department\n",
        "from sklearn.preprocessing import LabelEncoder\n",
        "\n",
        "for dataset in combined:\n",
        "    label = LabelEncoder()\n",
        "    dataset['Department'] = label.fit_transform(dataset['Department'])\n",
        "combined[1].Department.unique()\n"
      ],
      "metadata": {
        "colab": {
          "base_uri": "https://localhost:8080/"
        },
        "id": "eBDDzYrP6S-v",
        "outputId": "50253041-fa48-42b2-fd4f-79a0fc387eed"
      },
      "execution_count": 101,
      "outputs": [
        {
          "output_type": "execute_result",
          "data": {
            "text/plain": [
              "array([2, 1, 0, 3, 4])"
            ]
          },
          "metadata": {},
          "execution_count": 101
        }
      ]
    },
    {
      "cell_type": "code",
      "source": [
        "# Encoding Ward Type, Hospital_type_code, Ward_Facility_Code, Type_of_Admission, Severity_of_Illness\n",
        "for dataset in combined:\n",
        "    label = LabelEncoder()\n",
        "    dataset['Hospital_type_code'] = label.fit_transform(dataset['Hospital_type_code'])\n",
        "    dataset['Ward_Facility_Code'] = label.fit_transform(dataset['Ward_Facility_Code'])\n",
        "    dataset['Ward_Type'] = label.fit_transform(dataset['Ward_Type'])\n",
        "    dataset['Type_of_Admission'] = label.fit_transform(dataset['Type_of_Admission'])\n",
        "    dataset['Severity_of_Illness'] = label.fit_transform(dataset['Severity_of_Illness'])"
      ],
      "metadata": {
        "id": "_1Qvc2yO7MJK"
      },
      "execution_count": 102,
      "outputs": []
    },
    {
      "cell_type": "code",
      "source": [
        "combined[0]"
      ],
      "metadata": {
        "colab": {
          "base_uri": "https://localhost:8080/",
          "height": 644
        },
        "id": "nf7UPjLC7cn-",
        "outputId": "115be3ba-2664-4824-edc4-cd0555184ebd"
      },
      "execution_count": 103,
      "outputs": [
        {
          "output_type": "execute_result",
          "data": {
            "text/plain": [
              "        case_id  Hospital_code  Hospital_type_code  City_Code_Hospital  \\\n",
              "0             1              8                   2                   3   \n",
              "1             2              2                   2                   5   \n",
              "2             3             10                   4                   1   \n",
              "3             4             26                   1                   2   \n",
              "4             5             26                   1                   2   \n",
              "...         ...            ...                 ...                 ...   \n",
              "237304   237305             23                   0                   6   \n",
              "237305   237306             19                   0                   7   \n",
              "237306   237307              8                   2                   3   \n",
              "237307   237308             21                   2                   3   \n",
              "237308   237309              5                   0                   1   \n",
              "\n",
              "        Available_Extra_Rooms_in_Hospital  Department  Ward_Type  \\\n",
              "0                                       3           3          2   \n",
              "1                                       2           3          3   \n",
              "2                                       2           1          3   \n",
              "3                                       2           3          2   \n",
              "4                                       2           3          3   \n",
              "...                                   ...         ...        ...   \n",
              "237304                                  3           2          2   \n",
              "237305                                  2           2          2   \n",
              "237306                                  5           2          1   \n",
              "237307                                  4           3          3   \n",
              "237308                                  3           2          1   \n",
              "\n",
              "        Ward_Facility_Code  Type_of_Admission  Severity_of_Illness  \\\n",
              "0                        5                  0                    0   \n",
              "1                        5                  1                    0   \n",
              "2                        4                  1                    0   \n",
              "3                        3                  1                    0   \n",
              "4                        3                  1                    0   \n",
              "...                    ...                ...                  ...   \n",
              "237304                   5                  1                    0   \n",
              "237305                   2                  0                    0   \n",
              "237306                   5                  0                    2   \n",
              "237307                   0                  0                    2   \n",
              "237308                   4                  1                    1   \n",
              "\n",
              "        Visitors_with_Patient    Age  Admission_Deposit   Stay  \n",
              "0                         2.0  51-60             4911.0   0-10  \n",
              "1                         2.0  51-60             5954.0  41-50  \n",
              "2                         2.0  51-60             4745.0  31-40  \n",
              "3                         2.0  51-60             7272.0  41-50  \n",
              "4                         2.0  51-60             5558.0  41-50  \n",
              "...                       ...    ...                ...    ...  \n",
              "237304                    5.0  41-50             4298.0  51-60  \n",
              "237305                    4.0  41-50             4165.0  31-40  \n",
              "237306                    4.0  31-40             5075.0  21-30  \n",
              "237307                    2.0  31-40             5179.0  11-20  \n",
              "237308                    NaN    NaN                NaN    NaN  \n",
              "\n",
              "[237309 rows x 14 columns]"
            ],
            "text/html": [
              "\n",
              "  <div id=\"df-5222e386-4415-49ae-94f5-240108a58a24\">\n",
              "    <div class=\"colab-df-container\">\n",
              "      <div>\n",
              "<style scoped>\n",
              "    .dataframe tbody tr th:only-of-type {\n",
              "        vertical-align: middle;\n",
              "    }\n",
              "\n",
              "    .dataframe tbody tr th {\n",
              "        vertical-align: top;\n",
              "    }\n",
              "\n",
              "    .dataframe thead th {\n",
              "        text-align: right;\n",
              "    }\n",
              "</style>\n",
              "<table border=\"1\" class=\"dataframe\">\n",
              "  <thead>\n",
              "    <tr style=\"text-align: right;\">\n",
              "      <th></th>\n",
              "      <th>case_id</th>\n",
              "      <th>Hospital_code</th>\n",
              "      <th>Hospital_type_code</th>\n",
              "      <th>City_Code_Hospital</th>\n",
              "      <th>Available_Extra_Rooms_in_Hospital</th>\n",
              "      <th>Department</th>\n",
              "      <th>Ward_Type</th>\n",
              "      <th>Ward_Facility_Code</th>\n",
              "      <th>Type_of_Admission</th>\n",
              "      <th>Severity_of_Illness</th>\n",
              "      <th>Visitors_with_Patient</th>\n",
              "      <th>Age</th>\n",
              "      <th>Admission_Deposit</th>\n",
              "      <th>Stay</th>\n",
              "    </tr>\n",
              "  </thead>\n",
              "  <tbody>\n",
              "    <tr>\n",
              "      <th>0</th>\n",
              "      <td>1</td>\n",
              "      <td>8</td>\n",
              "      <td>2</td>\n",
              "      <td>3</td>\n",
              "      <td>3</td>\n",
              "      <td>3</td>\n",
              "      <td>2</td>\n",
              "      <td>5</td>\n",
              "      <td>0</td>\n",
              "      <td>0</td>\n",
              "      <td>2.0</td>\n",
              "      <td>51-60</td>\n",
              "      <td>4911.0</td>\n",
              "      <td>0-10</td>\n",
              "    </tr>\n",
              "    <tr>\n",
              "      <th>1</th>\n",
              "      <td>2</td>\n",
              "      <td>2</td>\n",
              "      <td>2</td>\n",
              "      <td>5</td>\n",
              "      <td>2</td>\n",
              "      <td>3</td>\n",
              "      <td>3</td>\n",
              "      <td>5</td>\n",
              "      <td>1</td>\n",
              "      <td>0</td>\n",
              "      <td>2.0</td>\n",
              "      <td>51-60</td>\n",
              "      <td>5954.0</td>\n",
              "      <td>41-50</td>\n",
              "    </tr>\n",
              "    <tr>\n",
              "      <th>2</th>\n",
              "      <td>3</td>\n",
              "      <td>10</td>\n",
              "      <td>4</td>\n",
              "      <td>1</td>\n",
              "      <td>2</td>\n",
              "      <td>1</td>\n",
              "      <td>3</td>\n",
              "      <td>4</td>\n",
              "      <td>1</td>\n",
              "      <td>0</td>\n",
              "      <td>2.0</td>\n",
              "      <td>51-60</td>\n",
              "      <td>4745.0</td>\n",
              "      <td>31-40</td>\n",
              "    </tr>\n",
              "    <tr>\n",
              "      <th>3</th>\n",
              "      <td>4</td>\n",
              "      <td>26</td>\n",
              "      <td>1</td>\n",
              "      <td>2</td>\n",
              "      <td>2</td>\n",
              "      <td>3</td>\n",
              "      <td>2</td>\n",
              "      <td>3</td>\n",
              "      <td>1</td>\n",
              "      <td>0</td>\n",
              "      <td>2.0</td>\n",
              "      <td>51-60</td>\n",
              "      <td>7272.0</td>\n",
              "      <td>41-50</td>\n",
              "    </tr>\n",
              "    <tr>\n",
              "      <th>4</th>\n",
              "      <td>5</td>\n",
              "      <td>26</td>\n",
              "      <td>1</td>\n",
              "      <td>2</td>\n",
              "      <td>2</td>\n",
              "      <td>3</td>\n",
              "      <td>3</td>\n",
              "      <td>3</td>\n",
              "      <td>1</td>\n",
              "      <td>0</td>\n",
              "      <td>2.0</td>\n",
              "      <td>51-60</td>\n",
              "      <td>5558.0</td>\n",
              "      <td>41-50</td>\n",
              "    </tr>\n",
              "    <tr>\n",
              "      <th>...</th>\n",
              "      <td>...</td>\n",
              "      <td>...</td>\n",
              "      <td>...</td>\n",
              "      <td>...</td>\n",
              "      <td>...</td>\n",
              "      <td>...</td>\n",
              "      <td>...</td>\n",
              "      <td>...</td>\n",
              "      <td>...</td>\n",
              "      <td>...</td>\n",
              "      <td>...</td>\n",
              "      <td>...</td>\n",
              "      <td>...</td>\n",
              "      <td>...</td>\n",
              "    </tr>\n",
              "    <tr>\n",
              "      <th>237304</th>\n",
              "      <td>237305</td>\n",
              "      <td>23</td>\n",
              "      <td>0</td>\n",
              "      <td>6</td>\n",
              "      <td>3</td>\n",
              "      <td>2</td>\n",
              "      <td>2</td>\n",
              "      <td>5</td>\n",
              "      <td>1</td>\n",
              "      <td>0</td>\n",
              "      <td>5.0</td>\n",
              "      <td>41-50</td>\n",
              "      <td>4298.0</td>\n",
              "      <td>51-60</td>\n",
              "    </tr>\n",
              "    <tr>\n",
              "      <th>237305</th>\n",
              "      <td>237306</td>\n",
              "      <td>19</td>\n",
              "      <td>0</td>\n",
              "      <td>7</td>\n",
              "      <td>2</td>\n",
              "      <td>2</td>\n",
              "      <td>2</td>\n",
              "      <td>2</td>\n",
              "      <td>0</td>\n",
              "      <td>0</td>\n",
              "      <td>4.0</td>\n",
              "      <td>41-50</td>\n",
              "      <td>4165.0</td>\n",
              "      <td>31-40</td>\n",
              "    </tr>\n",
              "    <tr>\n",
              "      <th>237306</th>\n",
              "      <td>237307</td>\n",
              "      <td>8</td>\n",
              "      <td>2</td>\n",
              "      <td>3</td>\n",
              "      <td>5</td>\n",
              "      <td>2</td>\n",
              "      <td>1</td>\n",
              "      <td>5</td>\n",
              "      <td>0</td>\n",
              "      <td>2</td>\n",
              "      <td>4.0</td>\n",
              "      <td>31-40</td>\n",
              "      <td>5075.0</td>\n",
              "      <td>21-30</td>\n",
              "    </tr>\n",
              "    <tr>\n",
              "      <th>237307</th>\n",
              "      <td>237308</td>\n",
              "      <td>21</td>\n",
              "      <td>2</td>\n",
              "      <td>3</td>\n",
              "      <td>4</td>\n",
              "      <td>3</td>\n",
              "      <td>3</td>\n",
              "      <td>0</td>\n",
              "      <td>0</td>\n",
              "      <td>2</td>\n",
              "      <td>2.0</td>\n",
              "      <td>31-40</td>\n",
              "      <td>5179.0</td>\n",
              "      <td>11-20</td>\n",
              "    </tr>\n",
              "    <tr>\n",
              "      <th>237308</th>\n",
              "      <td>237309</td>\n",
              "      <td>5</td>\n",
              "      <td>0</td>\n",
              "      <td>1</td>\n",
              "      <td>3</td>\n",
              "      <td>2</td>\n",
              "      <td>1</td>\n",
              "      <td>4</td>\n",
              "      <td>1</td>\n",
              "      <td>1</td>\n",
              "      <td>NaN</td>\n",
              "      <td>NaN</td>\n",
              "      <td>NaN</td>\n",
              "      <td>NaN</td>\n",
              "    </tr>\n",
              "  </tbody>\n",
              "</table>\n",
              "<p>237309 rows × 14 columns</p>\n",
              "</div>\n",
              "      <button class=\"colab-df-convert\" onclick=\"convertToInteractive('df-5222e386-4415-49ae-94f5-240108a58a24')\"\n",
              "              title=\"Convert this dataframe to an interactive table.\"\n",
              "              style=\"display:none;\">\n",
              "        \n",
              "  <svg xmlns=\"http://www.w3.org/2000/svg\" height=\"24px\"viewBox=\"0 0 24 24\"\n",
              "       width=\"24px\">\n",
              "    <path d=\"M0 0h24v24H0V0z\" fill=\"none\"/>\n",
              "    <path d=\"M18.56 5.44l.94 2.06.94-2.06 2.06-.94-2.06-.94-.94-2.06-.94 2.06-2.06.94zm-11 1L8.5 8.5l.94-2.06 2.06-.94-2.06-.94L8.5 2.5l-.94 2.06-2.06.94zm10 10l.94 2.06.94-2.06 2.06-.94-2.06-.94-.94-2.06-.94 2.06-2.06.94z\"/><path d=\"M17.41 7.96l-1.37-1.37c-.4-.4-.92-.59-1.43-.59-.52 0-1.04.2-1.43.59L10.3 9.45l-7.72 7.72c-.78.78-.78 2.05 0 2.83L4 21.41c.39.39.9.59 1.41.59.51 0 1.02-.2 1.41-.59l7.78-7.78 2.81-2.81c.8-.78.8-2.07 0-2.86zM5.41 20L4 18.59l7.72-7.72 1.47 1.35L5.41 20z\"/>\n",
              "  </svg>\n",
              "      </button>\n",
              "      \n",
              "  <style>\n",
              "    .colab-df-container {\n",
              "      display:flex;\n",
              "      flex-wrap:wrap;\n",
              "      gap: 12px;\n",
              "    }\n",
              "\n",
              "    .colab-df-convert {\n",
              "      background-color: #E8F0FE;\n",
              "      border: none;\n",
              "      border-radius: 50%;\n",
              "      cursor: pointer;\n",
              "      display: none;\n",
              "      fill: #1967D2;\n",
              "      height: 32px;\n",
              "      padding: 0 0 0 0;\n",
              "      width: 32px;\n",
              "    }\n",
              "\n",
              "    .colab-df-convert:hover {\n",
              "      background-color: #E2EBFA;\n",
              "      box-shadow: 0px 1px 2px rgba(60, 64, 67, 0.3), 0px 1px 3px 1px rgba(60, 64, 67, 0.15);\n",
              "      fill: #174EA6;\n",
              "    }\n",
              "\n",
              "    [theme=dark] .colab-df-convert {\n",
              "      background-color: #3B4455;\n",
              "      fill: #D2E3FC;\n",
              "    }\n",
              "\n",
              "    [theme=dark] .colab-df-convert:hover {\n",
              "      background-color: #434B5C;\n",
              "      box-shadow: 0px 1px 3px 1px rgba(0, 0, 0, 0.15);\n",
              "      filter: drop-shadow(0px 1px 2px rgba(0, 0, 0, 0.3));\n",
              "      fill: #FFFFFF;\n",
              "    }\n",
              "  </style>\n",
              "\n",
              "      <script>\n",
              "        const buttonEl =\n",
              "          document.querySelector('#df-5222e386-4415-49ae-94f5-240108a58a24 button.colab-df-convert');\n",
              "        buttonEl.style.display =\n",
              "          google.colab.kernel.accessAllowed ? 'block' : 'none';\n",
              "\n",
              "        async function convertToInteractive(key) {\n",
              "          const element = document.querySelector('#df-5222e386-4415-49ae-94f5-240108a58a24');\n",
              "          const dataTable =\n",
              "            await google.colab.kernel.invokeFunction('convertToInteractive',\n",
              "                                                     [key], {});\n",
              "          if (!dataTable) return;\n",
              "\n",
              "          const docLinkHtml = 'Like what you see? Visit the ' +\n",
              "            '<a target=\"_blank\" href=https://colab.research.google.com/notebooks/data_table.ipynb>data table notebook</a>'\n",
              "            + ' to learn more about interactive tables.';\n",
              "          element.innerHTML = '';\n",
              "          dataTable['output_type'] = 'display_data';\n",
              "          await google.colab.output.renderOutput(dataTable, element);\n",
              "          const docLink = document.createElement('div');\n",
              "          docLink.innerHTML = docLinkHtml;\n",
              "          element.appendChild(docLink);\n",
              "        }\n",
              "      </script>\n",
              "    </div>\n",
              "  </div>\n",
              "  "
            ]
          },
          "metadata": {},
          "execution_count": 103
        }
      ]
    },
    {
      "cell_type": "code",
      "source": [
        "combined[1]"
      ],
      "metadata": {
        "colab": {
          "base_uri": "https://localhost:8080/",
          "height": 661
        },
        "id": "huRFaxcd7hg6",
        "outputId": "e76a37b0-b2ae-404a-e1db-c675c3623d6d"
      },
      "execution_count": 104,
      "outputs": [
        {
          "output_type": "execute_result",
          "data": {
            "text/plain": [
              "        case_id  Hospital_code  Hospital_type_code  City_Code_Hospital  \\\n",
              "0        318439             21                   2                   3   \n",
              "1        318440             29                   0                   4   \n",
              "2        318441             26                   1                   2   \n",
              "3        318442              6                   0                   6   \n",
              "4        318443             28                   1                  11   \n",
              "...         ...            ...                 ...                 ...   \n",
              "137052   455491             11                   1                   2   \n",
              "137053   455492             25                   4                   1   \n",
              "137054   455493             30                   2                   3   \n",
              "137055   455494              5                   0                   1   \n",
              "137056   455495              6                   0                   6   \n",
              "\n",
              "        Available_Extra_Rooms_in_Hospital  Department  Ward_Type  \\\n",
              "0                                       3           2          3   \n",
              "1                                       2           2          3   \n",
              "2                                       3           2          1   \n",
              "3                                       3           2          1   \n",
              "4                                       2           2          2   \n",
              "...                                   ...         ...        ...   \n",
              "137052                                  4           1          1   \n",
              "137053                                  2           3          2   \n",
              "137054                                  2           1          2   \n",
              "137055                                  2           1          2   \n",
              "137056                                  3           2          1   \n",
              "\n",
              "        Ward_Facility_Code  Type_of_Admission  Severity_of_Illness  \\\n",
              "0                        0                  0                    2   \n",
              "1                        5                  1                    2   \n",
              "2                        3                  0                    2   \n",
              "3                        5                  1                    2   \n",
              "4                        5                  1                    2   \n",
              "...                    ...                ...                  ...   \n",
              "137052                   3                  0                    1   \n",
              "137053                   4                  0                    2   \n",
              "137054                   0                  2                    1   \n",
              "137055                   4                  1                    1   \n",
              "137056                   5                  1                    0   \n",
              "\n",
              "        Visitors_with_Patient    Age  Admission_Deposit  \n",
              "0                           2  71-80               3095  \n",
              "1                           4  71-80               4018  \n",
              "2                           3  71-80               4492  \n",
              "3                           3  71-80               4173  \n",
              "4                           4  71-80               4161  \n",
              "...                       ...    ...                ...  \n",
              "137052                      4  41-50               6313  \n",
              "137053                      2   0-10               3510  \n",
              "137054                      2   0-10               7190  \n",
              "137055                      2  41-50               5435  \n",
              "137056                      5  51-60               4702  \n",
              "\n",
              "[137057 rows x 13 columns]"
            ],
            "text/html": [
              "\n",
              "  <div id=\"df-67ea86e4-d1e1-4e3b-8ea1-972c0d52a350\">\n",
              "    <div class=\"colab-df-container\">\n",
              "      <div>\n",
              "<style scoped>\n",
              "    .dataframe tbody tr th:only-of-type {\n",
              "        vertical-align: middle;\n",
              "    }\n",
              "\n",
              "    .dataframe tbody tr th {\n",
              "        vertical-align: top;\n",
              "    }\n",
              "\n",
              "    .dataframe thead th {\n",
              "        text-align: right;\n",
              "    }\n",
              "</style>\n",
              "<table border=\"1\" class=\"dataframe\">\n",
              "  <thead>\n",
              "    <tr style=\"text-align: right;\">\n",
              "      <th></th>\n",
              "      <th>case_id</th>\n",
              "      <th>Hospital_code</th>\n",
              "      <th>Hospital_type_code</th>\n",
              "      <th>City_Code_Hospital</th>\n",
              "      <th>Available_Extra_Rooms_in_Hospital</th>\n",
              "      <th>Department</th>\n",
              "      <th>Ward_Type</th>\n",
              "      <th>Ward_Facility_Code</th>\n",
              "      <th>Type_of_Admission</th>\n",
              "      <th>Severity_of_Illness</th>\n",
              "      <th>Visitors_with_Patient</th>\n",
              "      <th>Age</th>\n",
              "      <th>Admission_Deposit</th>\n",
              "    </tr>\n",
              "  </thead>\n",
              "  <tbody>\n",
              "    <tr>\n",
              "      <th>0</th>\n",
              "      <td>318439</td>\n",
              "      <td>21</td>\n",
              "      <td>2</td>\n",
              "      <td>3</td>\n",
              "      <td>3</td>\n",
              "      <td>2</td>\n",
              "      <td>3</td>\n",
              "      <td>0</td>\n",
              "      <td>0</td>\n",
              "      <td>2</td>\n",
              "      <td>2</td>\n",
              "      <td>71-80</td>\n",
              "      <td>3095</td>\n",
              "    </tr>\n",
              "    <tr>\n",
              "      <th>1</th>\n",
              "      <td>318440</td>\n",
              "      <td>29</td>\n",
              "      <td>0</td>\n",
              "      <td>4</td>\n",
              "      <td>2</td>\n",
              "      <td>2</td>\n",
              "      <td>3</td>\n",
              "      <td>5</td>\n",
              "      <td>1</td>\n",
              "      <td>2</td>\n",
              "      <td>4</td>\n",
              "      <td>71-80</td>\n",
              "      <td>4018</td>\n",
              "    </tr>\n",
              "    <tr>\n",
              "      <th>2</th>\n",
              "      <td>318441</td>\n",
              "      <td>26</td>\n",
              "      <td>1</td>\n",
              "      <td>2</td>\n",
              "      <td>3</td>\n",
              "      <td>2</td>\n",
              "      <td>1</td>\n",
              "      <td>3</td>\n",
              "      <td>0</td>\n",
              "      <td>2</td>\n",
              "      <td>3</td>\n",
              "      <td>71-80</td>\n",
              "      <td>4492</td>\n",
              "    </tr>\n",
              "    <tr>\n",
              "      <th>3</th>\n",
              "      <td>318442</td>\n",
              "      <td>6</td>\n",
              "      <td>0</td>\n",
              "      <td>6</td>\n",
              "      <td>3</td>\n",
              "      <td>2</td>\n",
              "      <td>1</td>\n",
              "      <td>5</td>\n",
              "      <td>1</td>\n",
              "      <td>2</td>\n",
              "      <td>3</td>\n",
              "      <td>71-80</td>\n",
              "      <td>4173</td>\n",
              "    </tr>\n",
              "    <tr>\n",
              "      <th>4</th>\n",
              "      <td>318443</td>\n",
              "      <td>28</td>\n",
              "      <td>1</td>\n",
              "      <td>11</td>\n",
              "      <td>2</td>\n",
              "      <td>2</td>\n",
              "      <td>2</td>\n",
              "      <td>5</td>\n",
              "      <td>1</td>\n",
              "      <td>2</td>\n",
              "      <td>4</td>\n",
              "      <td>71-80</td>\n",
              "      <td>4161</td>\n",
              "    </tr>\n",
              "    <tr>\n",
              "      <th>...</th>\n",
              "      <td>...</td>\n",
              "      <td>...</td>\n",
              "      <td>...</td>\n",
              "      <td>...</td>\n",
              "      <td>...</td>\n",
              "      <td>...</td>\n",
              "      <td>...</td>\n",
              "      <td>...</td>\n",
              "      <td>...</td>\n",
              "      <td>...</td>\n",
              "      <td>...</td>\n",
              "      <td>...</td>\n",
              "      <td>...</td>\n",
              "    </tr>\n",
              "    <tr>\n",
              "      <th>137052</th>\n",
              "      <td>455491</td>\n",
              "      <td>11</td>\n",
              "      <td>1</td>\n",
              "      <td>2</td>\n",
              "      <td>4</td>\n",
              "      <td>1</td>\n",
              "      <td>1</td>\n",
              "      <td>3</td>\n",
              "      <td>0</td>\n",
              "      <td>1</td>\n",
              "      <td>4</td>\n",
              "      <td>41-50</td>\n",
              "      <td>6313</td>\n",
              "    </tr>\n",
              "    <tr>\n",
              "      <th>137053</th>\n",
              "      <td>455492</td>\n",
              "      <td>25</td>\n",
              "      <td>4</td>\n",
              "      <td>1</td>\n",
              "      <td>2</td>\n",
              "      <td>3</td>\n",
              "      <td>2</td>\n",
              "      <td>4</td>\n",
              "      <td>0</td>\n",
              "      <td>2</td>\n",
              "      <td>2</td>\n",
              "      <td>0-10</td>\n",
              "      <td>3510</td>\n",
              "    </tr>\n",
              "    <tr>\n",
              "      <th>137054</th>\n",
              "      <td>455493</td>\n",
              "      <td>30</td>\n",
              "      <td>2</td>\n",
              "      <td>3</td>\n",
              "      <td>2</td>\n",
              "      <td>1</td>\n",
              "      <td>2</td>\n",
              "      <td>0</td>\n",
              "      <td>2</td>\n",
              "      <td>1</td>\n",
              "      <td>2</td>\n",
              "      <td>0-10</td>\n",
              "      <td>7190</td>\n",
              "    </tr>\n",
              "    <tr>\n",
              "      <th>137055</th>\n",
              "      <td>455494</td>\n",
              "      <td>5</td>\n",
              "      <td>0</td>\n",
              "      <td>1</td>\n",
              "      <td>2</td>\n",
              "      <td>1</td>\n",
              "      <td>2</td>\n",
              "      <td>4</td>\n",
              "      <td>1</td>\n",
              "      <td>1</td>\n",
              "      <td>2</td>\n",
              "      <td>41-50</td>\n",
              "      <td>5435</td>\n",
              "    </tr>\n",
              "    <tr>\n",
              "      <th>137056</th>\n",
              "      <td>455495</td>\n",
              "      <td>6</td>\n",
              "      <td>0</td>\n",
              "      <td>6</td>\n",
              "      <td>3</td>\n",
              "      <td>2</td>\n",
              "      <td>1</td>\n",
              "      <td>5</td>\n",
              "      <td>1</td>\n",
              "      <td>0</td>\n",
              "      <td>5</td>\n",
              "      <td>51-60</td>\n",
              "      <td>4702</td>\n",
              "    </tr>\n",
              "  </tbody>\n",
              "</table>\n",
              "<p>137057 rows × 13 columns</p>\n",
              "</div>\n",
              "      <button class=\"colab-df-convert\" onclick=\"convertToInteractive('df-67ea86e4-d1e1-4e3b-8ea1-972c0d52a350')\"\n",
              "              title=\"Convert this dataframe to an interactive table.\"\n",
              "              style=\"display:none;\">\n",
              "        \n",
              "  <svg xmlns=\"http://www.w3.org/2000/svg\" height=\"24px\"viewBox=\"0 0 24 24\"\n",
              "       width=\"24px\">\n",
              "    <path d=\"M0 0h24v24H0V0z\" fill=\"none\"/>\n",
              "    <path d=\"M18.56 5.44l.94 2.06.94-2.06 2.06-.94-2.06-.94-.94-2.06-.94 2.06-2.06.94zm-11 1L8.5 8.5l.94-2.06 2.06-.94-2.06-.94L8.5 2.5l-.94 2.06-2.06.94zm10 10l.94 2.06.94-2.06 2.06-.94-2.06-.94-.94-2.06-.94 2.06-2.06.94z\"/><path d=\"M17.41 7.96l-1.37-1.37c-.4-.4-.92-.59-1.43-.59-.52 0-1.04.2-1.43.59L10.3 9.45l-7.72 7.72c-.78.78-.78 2.05 0 2.83L4 21.41c.39.39.9.59 1.41.59.51 0 1.02-.2 1.41-.59l7.78-7.78 2.81-2.81c.8-.78.8-2.07 0-2.86zM5.41 20L4 18.59l7.72-7.72 1.47 1.35L5.41 20z\"/>\n",
              "  </svg>\n",
              "      </button>\n",
              "      \n",
              "  <style>\n",
              "    .colab-df-container {\n",
              "      display:flex;\n",
              "      flex-wrap:wrap;\n",
              "      gap: 12px;\n",
              "    }\n",
              "\n",
              "    .colab-df-convert {\n",
              "      background-color: #E8F0FE;\n",
              "      border: none;\n",
              "      border-radius: 50%;\n",
              "      cursor: pointer;\n",
              "      display: none;\n",
              "      fill: #1967D2;\n",
              "      height: 32px;\n",
              "      padding: 0 0 0 0;\n",
              "      width: 32px;\n",
              "    }\n",
              "\n",
              "    .colab-df-convert:hover {\n",
              "      background-color: #E2EBFA;\n",
              "      box-shadow: 0px 1px 2px rgba(60, 64, 67, 0.3), 0px 1px 3px 1px rgba(60, 64, 67, 0.15);\n",
              "      fill: #174EA6;\n",
              "    }\n",
              "\n",
              "    [theme=dark] .colab-df-convert {\n",
              "      background-color: #3B4455;\n",
              "      fill: #D2E3FC;\n",
              "    }\n",
              "\n",
              "    [theme=dark] .colab-df-convert:hover {\n",
              "      background-color: #434B5C;\n",
              "      box-shadow: 0px 1px 3px 1px rgba(0, 0, 0, 0.15);\n",
              "      filter: drop-shadow(0px 1px 2px rgba(0, 0, 0, 0.3));\n",
              "      fill: #FFFFFF;\n",
              "    }\n",
              "  </style>\n",
              "\n",
              "      <script>\n",
              "        const buttonEl =\n",
              "          document.querySelector('#df-67ea86e4-d1e1-4e3b-8ea1-972c0d52a350 button.colab-df-convert');\n",
              "        buttonEl.style.display =\n",
              "          google.colab.kernel.accessAllowed ? 'block' : 'none';\n",
              "\n",
              "        async function convertToInteractive(key) {\n",
              "          const element = document.querySelector('#df-67ea86e4-d1e1-4e3b-8ea1-972c0d52a350');\n",
              "          const dataTable =\n",
              "            await google.colab.kernel.invokeFunction('convertToInteractive',\n",
              "                                                     [key], {});\n",
              "          if (!dataTable) return;\n",
              "\n",
              "          const docLinkHtml = 'Like what you see? Visit the ' +\n",
              "            '<a target=\"_blank\" href=https://colab.research.google.com/notebooks/data_table.ipynb>data table notebook</a>'\n",
              "            + ' to learn more about interactive tables.';\n",
              "          element.innerHTML = '';\n",
              "          dataTable['output_type'] = 'display_data';\n",
              "          await google.colab.output.renderOutput(dataTable, element);\n",
              "          const docLink = document.createElement('div');\n",
              "          docLink.innerHTML = docLinkHtml;\n",
              "          element.appendChild(docLink);\n",
              "        }\n",
              "      </script>\n",
              "    </div>\n",
              "  </div>\n",
              "  "
            ]
          },
          "metadata": {},
          "execution_count": 104
        }
      ]
    },
    {
      "cell_type": "code",
      "source": [
        "#encoding age\n",
        "age_labels = {'0-10': 0, '11-20': 1, '21-30': 2, '31-40': 3, '41-50': 4, '51-60': 5, '61-70': 6, '71-80': 7, '81-90': 8, '91-100': 9}\n",
        "for dataset in combined:\n",
        "    dataset['Age'] = dataset['Age'].replace(age_labels.keys(), age_labels.values())"
      ],
      "metadata": {
        "id": "xJRAEu-d7mee"
      },
      "execution_count": 105,
      "outputs": []
    },
    {
      "cell_type": "code",
      "source": [
        "#encoding stay\n",
        "stay_labels = {'0-10': 0, '11-20': 1, '21-30': 2, '31-40': 3, '41-50': 4, '51-60': 5, '61-70': 6, '71-80': 7, '81-90': 8, '91-100': 9, 'More than 100 Days':10}\n",
        "combined[0]['Stay'] = combined[0]['Stay'].replace(stay_labels.keys(), stay_labels.values())"
      ],
      "metadata": {
        "id": "LC6msdSc7pEX"
      },
      "execution_count": 106,
      "outputs": []
    },
    {
      "cell_type": "code",
      "source": [
        "combined[0].Age.hist()"
      ],
      "metadata": {
        "colab": {
          "base_uri": "https://localhost:8080/",
          "height": 283
        },
        "id": "pRBYm6nj81T2",
        "outputId": "9e859698-8ea0-4a4a-9dbc-b8296b301ecb"
      },
      "execution_count": 107,
      "outputs": [
        {
          "output_type": "execute_result",
          "data": {
            "text/plain": [
              "<matplotlib.axes._subplots.AxesSubplot at 0x7f1b1bf5aa10>"
            ]
          },
          "metadata": {},
          "execution_count": 107
        },
        {
          "output_type": "display_data",
          "data": {
            "text/plain": [
              "<Figure size 432x288 with 1 Axes>"
            ],
            "image/png": "[encoded data removed]"
          },
          "metadata": {}
        }
      ]
    },
    {
      "cell_type": "code",
      "source": [
        "combined[0].Stay.hist()"
      ],
      "metadata": {
        "colab": {
          "base_uri": "https://localhost:8080/",
          "height": 282
        },
        "id": "s_XoMF8u9TYy",
        "outputId": "17dbe53b-d8c4-40f5-ef4d-38c701ba8ff8"
      },
      "execution_count": 108,
      "outputs": [
        {
          "output_type": "execute_result",
          "data": {
            "text/plain": [
              "<matplotlib.axes._subplots.AxesSubplot at 0x7f1b1be52810>"
            ]
          },
          "metadata": {},
          "execution_count": 108
        },
        {
          "output_type": "display_data",
          "data": {
            "text/plain": [
              "<Figure size 432x288 with 1 Axes>"
            ],
            "image/png": "[encoded data removed]"
          },
          "metadata": {}
        }
      ]
    },
    {
      "cell_type": "markdown",
      "source": [
        "**shape of combined (train data, test data) dataset**"
      ],
      "metadata": {
        "id": "c-mBJaqq-KZe"
      }
    },
    {
      "cell_type": "code",
      "source": [
        "for dataset in combined:\n",
        "    print(dataset.shape)"
      ],
      "metadata": {
        "colab": {
          "base_uri": "https://localhost:8080/"
        },
        "id": "6qOl_Jhu9XLW",
        "outputId": "49ec247b-86db-4382-a904-4edfaefd54a9"
      },
      "execution_count": 109,
      "outputs": [
        {
          "output_type": "stream",
          "name": "stdout",
          "text": [
            "(237309, 14)\n",
            "(137057, 13)\n"
          ]
        }
      ]
    },
    {
      "cell_type": "markdown",
      "source": [
        "#Scaling Numerical Data"
      ],
      "metadata": {
        "id": "T0-BzrzC-ldi"
      }
    },
    {
      "cell_type": "code",
      "source": [
        "plt.figure(figsize=(12,12))\n",
        "sns.heatmap(combined[0].corr(), annot=True, cmap='coolwarm')"
      ],
      "metadata": {
        "colab": {
          "base_uri": "https://localhost:8080/",
          "height": 886
        },
        "id": "xGnzNr8u-vN8",
        "outputId": "01e6920b-da10-424b-e71f-9f0ca077f277"
      },
      "execution_count": 112,
      "outputs": [
        {
          "output_type": "execute_result",
          "data": {
            "text/plain": [
              "<matplotlib.axes._subplots.AxesSubplot at 0x7f1b1bf2fb50>"
            ]
          },
          "metadata": {},
          "execution_count": 112
        },
        {
          "output_type": "display_data",
          "data": {
            "text/plain": [
              "<Figure size 864x864 with 2 Axes>"
            ],
            "image/png": "[encoded data removed]"
          },
          "metadata": {}
        }
      ]
    },
    {
      "cell_type": "code",
      "source": [
        "combined[1]"
      ],
      "metadata": {
        "colab": {
          "base_uri": "https://localhost:8080/",
          "height": 488
        },
        "id": "dsDu3CILwcos",
        "outputId": "ef6d56b2-5183-4265-f1ca-5e32b83e9c03"
      },
      "execution_count": 113,
      "outputs": [
        {
          "output_type": "execute_result",
          "data": {
            "text/plain": [
              "        case_id  Hospital_code  Hospital_type_code  City_Code_Hospital  \\\n",
              "0        318439             21                   2                   3   \n",
              "1        318440             29                   0                   4   \n",
              "2        318441             26                   1                   2   \n",
              "3        318442              6                   0                   6   \n",
              "4        318443             28                   1                  11   \n",
              "...         ...            ...                 ...                 ...   \n",
              "137052   455491             11                   1                   2   \n",
              "137053   455492             25                   4                   1   \n",
              "137054   455493             30                   2                   3   \n",
              "137055   455494              5                   0                   1   \n",
              "137056   455495              6                   0                   6   \n",
              "\n",
              "        Available_Extra_Rooms_in_Hospital  Department  Ward_Type  \\\n",
              "0                                       3           2          3   \n",
              "1                                       2           2          3   \n",
              "2                                       3           2          1   \n",
              "3                                       3           2          1   \n",
              "4                                       2           2          2   \n",
              "...                                   ...         ...        ...   \n",
              "137052                                  4           1          1   \n",
              "137053                                  2           3          2   \n",
              "137054                                  2           1          2   \n",
              "137055                                  2           1          2   \n",
              "137056                                  3           2          1   \n",
              "\n",
              "        Ward_Facility_Code  Type_of_Admission  Severity_of_Illness  \\\n",
              "0                        0                  0                    2   \n",
              "1                        5                  1                    2   \n",
              "2                        3                  0                    2   \n",
              "3                        5                  1                    2   \n",
              "4                        5                  1                    2   \n",
              "...                    ...                ...                  ...   \n",
              "137052                   3                  0                    1   \n",
              "137053                   4                  0                    2   \n",
              "137054                   0                  2                    1   \n",
              "137055                   4                  1                    1   \n",
              "137056                   5                  1                    0   \n",
              "\n",
              "        Visitors_with_Patient  Age  Admission_Deposit  \n",
              "0                           2    7               3095  \n",
              "1                           4    7               4018  \n",
              "2                           3    7               4492  \n",
              "3                           3    7               4173  \n",
              "4                           4    7               4161  \n",
              "...                       ...  ...                ...  \n",
              "137052                      4    4               6313  \n",
              "137053                      2    0               3510  \n",
              "137054                      2    0               7190  \n",
              "137055                      2    4               5435  \n",
              "137056                      5    5               4702  \n",
              "\n",
              "[137057 rows x 13 columns]"
            ],
            "text/html": [
              "\n",
              "  <div id=\"df-10116c38-9f23-4544-881b-26faaeff2b9e\">\n",
              "    <div class=\"colab-df-container\">\n",
              "      <div>\n",
              "<style scoped>\n",
              "    .dataframe tbody tr th:only-of-type {\n",
              "        vertical-align: middle;\n",
              "    }\n",
              "\n",
              "    .dataframe tbody tr th {\n",
              "        vertical-align: top;\n",
              "    }\n",
              "\n",
              "    .dataframe thead th {\n",
              "        text-align: right;\n",
              "    }\n",
              "</style>\n",
              "<table border=\"1\" class=\"dataframe\">\n",
              "  <thead>\n",
              "    <tr style=\"text-align: right;\">\n",
              "      <th></th>\n",
              "      <th>case_id</th>\n",
              "      <th>Hospital_code</th>\n",
              "      <th>Hospital_type_code</th>\n",
              "      <th>City_Code_Hospital</th>\n",
              "      <th>Available_Extra_Rooms_in_Hospital</th>\n",
              "      <th>Department</th>\n",
              "      <th>Ward_Type</th>\n",
              "      <th>Ward_Facility_Code</th>\n",
              "      <th>Type_of_Admission</th>\n",
              "      <th>Severity_of_Illness</th>\n",
              "      <th>Visitors_with_Patient</th>\n",
              "      <th>Age</th>\n",
              "      <th>Admission_Deposit</th>\n",
              "    </tr>\n",
              "  </thead>\n",
              "  <tbody>\n",
              "    <tr>\n",
              "      <th>0</th>\n",
              "      <td>318439</td>\n",
              "      <td>21</td>\n",
              "      <td>2</td>\n",
              "      <td>3</td>\n",
              "      <td>3</td>\n",
              "      <td>2</td>\n",
              "      <td>3</td>\n",
              "      <td>0</td>\n",
              "      <td>0</td>\n",
              "      <td>2</td>\n",
              "      <td>2</td>\n",
              "      <td>7</td>\n",
              "      <td>3095</td>\n",
              "    </tr>\n",
              "    <tr>\n",
              "      <th>1</th>\n",
              "      <td>318440</td>\n",
              "      <td>29</td>\n",
              "      <td>0</td>\n",
              "      <td>4</td>\n",
              "      <td>2</td>\n",
              "      <td>2</td>\n",
              "      <td>3</td>\n",
              "      <td>5</td>\n",
              "      <td>1</td>\n",
              "      <td>2</td>\n",
              "      <td>4</td>\n",
              "      <td>7</td>\n",
              "      <td>4018</td>\n",
              "    </tr>\n",
              "    <tr>\n",
              "      <th>2</th>\n",
              "      <td>318441</td>\n",
              "      <td>26</td>\n",
              "      <td>1</td>\n",
              "      <td>2</td>\n",
              "      <td>3</td>\n",
              "      <td>2</td>\n",
              "      <td>1</td>\n",
              "      <td>3</td>\n",
              "      <td>0</td>\n",
              "      <td>2</td>\n",
              "      <td>3</td>\n",
              "      <td>7</td>\n",
              "      <td>4492</td>\n",
              "    </tr>\n",
              "    <tr>\n",
              "      <th>3</th>\n",
              "      <td>318442</td>\n",
              "      <td>6</td>\n",
              "      <td>0</td>\n",
              "      <td>6</td>\n",
              "      <td>3</td>\n",
              "      <td>2</td>\n",
              "      <td>1</td>\n",
              "      <td>5</td>\n",
              "      <td>1</td>\n",
              "      <td>2</td>\n",
              "      <td>3</td>\n",
              "      <td>7</td>\n",
              "      <td>4173</td>\n",
              "    </tr>\n",
              "    <tr>\n",
              "      <th>4</th>\n",
              "      <td>318443</td>\n",
              "      <td>28</td>\n",
              "      <td>1</td>\n",
              "      <td>11</td>\n",
              "      <td>2</td>\n",
              "      <td>2</td>\n",
              "      <td>2</td>\n",
              "      <td>5</td>\n",
              "      <td>1</td>\n",
              "      <td>2</td>\n",
              "      <td>4</td>\n",
              "      <td>7</td>\n",
              "      <td>4161</td>\n",
              "    </tr>\n",
              "    <tr>\n",
              "      <th>...</th>\n",
              "      <td>...</td>\n",
              "      <td>...</td>\n",
              "      <td>...</td>\n",
              "      <td>...</td>\n",
              "      <td>...</td>\n",
              "      <td>...</td>\n",
              "      <td>...</td>\n",
              "      <td>...</td>\n",
              "      <td>...</td>\n",
              "      <td>...</td>\n",
              "      <td>...</td>\n",
              "      <td>...</td>\n",
              "      <td>...</td>\n",
              "    </tr>\n",
              "    <tr>\n",
              "      <th>137052</th>\n",
              "      <td>455491</td>\n",
              "      <td>11</td>\n",
              "      <td>1</td>\n",
              "      <td>2</td>\n",
              "      <td>4</td>\n",
              "      <td>1</td>\n",
              "      <td>1</td>\n",
              "      <td>3</td>\n",
              "      <td>0</td>\n",
              "      <td>1</td>\n",
              "      <td>4</td>\n",
              "      <td>4</td>\n",
              "      <td>6313</td>\n",
              "    </tr>\n",
              "    <tr>\n",
              "      <th>137053</th>\n",
              "      <td>455492</td>\n",
              "      <td>25</td>\n",
              "      <td>4</td>\n",
              "      <td>1</td>\n",
              "      <td>2</td>\n",
              "      <td>3</td>\n",
              "      <td>2</td>\n",
              "      <td>4</td>\n",
              "      <td>0</td>\n",
              "      <td>2</td>\n",
              "      <td>2</td>\n",
              "      <td>0</td>\n",
              "      <td>3510</td>\n",
              "    </tr>\n",
              "    <tr>\n",
              "      <th>137054</th>\n",
              "      <td>455493</td>\n",
              "      <td>30</td>\n",
              "      <td>2</td>\n",
              "      <td>3</td>\n",
              "      <td>2</td>\n",
              "      <td>1</td>\n",
              "      <td>2</td>\n",
              "      <td>0</td>\n",
              "      <td>2</td>\n",
              "      <td>1</td>\n",
              "      <td>2</td>\n",
              "      <td>0</td>\n",
              "      <td>7190</td>\n",
              "    </tr>\n",
              "    <tr>\n",
              "      <th>137055</th>\n",
              "      <td>455494</td>\n",
              "      <td>5</td>\n",
              "      <td>0</td>\n",
              "      <td>1</td>\n",
              "      <td>2</td>\n",
              "      <td>1</td>\n",
              "      <td>2</td>\n",
              "      <td>4</td>\n",
              "      <td>1</td>\n",
              "      <td>1</td>\n",
              "      <td>2</td>\n",
              "      <td>4</td>\n",
              "      <td>5435</td>\n",
              "    </tr>\n",
              "    <tr>\n",
              "      <th>137056</th>\n",
              "      <td>455495</td>\n",
              "      <td>6</td>\n",
              "      <td>0</td>\n",
              "      <td>6</td>\n",
              "      <td>3</td>\n",
              "      <td>2</td>\n",
              "      <td>1</td>\n",
              "      <td>5</td>\n",
              "      <td>1</td>\n",
              "      <td>0</td>\n",
              "      <td>5</td>\n",
              "      <td>5</td>\n",
              "      <td>4702</td>\n",
              "    </tr>\n",
              "  </tbody>\n",
              "</table>\n",
              "<p>137057 rows × 13 columns</p>\n",
              "</div>\n",
              "      <button class=\"colab-df-convert\" onclick=\"convertToInteractive('df-10116c38-9f23-4544-881b-26faaeff2b9e')\"\n",
              "              title=\"Convert this dataframe to an interactive table.\"\n",
              "              style=\"display:none;\">\n",
              "        \n",
              "  <svg xmlns=\"http://www.w3.org/2000/svg\" height=\"24px\"viewBox=\"0 0 24 24\"\n",
              "       width=\"24px\">\n",
              "    <path d=\"M0 0h24v24H0V0z\" fill=\"none\"/>\n",
              "    <path d=\"M18.56 5.44l.94 2.06.94-2.06 2.06-.94-2.06-.94-.94-2.06-.94 2.06-2.06.94zm-11 1L8.5 8.5l.94-2.06 2.06-.94-2.06-.94L8.5 2.5l-.94 2.06-2.06.94zm10 10l.94 2.06.94-2.06 2.06-.94-2.06-.94-.94-2.06-.94 2.06-2.06.94z\"/><path d=\"M17.41 7.96l-1.37-1.37c-.4-.4-.92-.59-1.43-.59-.52 0-1.04.2-1.43.59L10.3 9.45l-7.72 7.72c-.78.78-.78 2.05 0 2.83L4 21.41c.39.39.9.59 1.41.59.51 0 1.02-.2 1.41-.59l7.78-7.78 2.81-2.81c.8-.78.8-2.07 0-2.86zM5.41 20L4 18.59l7.72-7.72 1.47 1.35L5.41 20z\"/>\n",
              "  </svg>\n",
              "      </button>\n",
              "      \n",
              "  <style>\n",
              "    .colab-df-container {\n",
              "      display:flex;\n",
              "      flex-wrap:wrap;\n",
              "      gap: 12px;\n",
              "    }\n",
              "\n",
              "    .colab-df-convert {\n",
              "      background-color: #E8F0FE;\n",
              "      border: none;\n",
              "      border-radius: 50%;\n",
              "      cursor: pointer;\n",
              "      display: none;\n",
              "      fill: #1967D2;\n",
              "      height: 32px;\n",
              "      padding: 0 0 0 0;\n",
              "      width: 32px;\n",
              "    }\n",
              "\n",
              "    .colab-df-convert:hover {\n",
              "      background-color: #E2EBFA;\n",
              "      box-shadow: 0px 1px 2px rgba(60, 64, 67, 0.3), 0px 1px 3px 1px rgba(60, 64, 67, 0.15);\n",
              "      fill: #174EA6;\n",
              "    }\n",
              "\n",
              "    [theme=dark] .colab-df-convert {\n",
              "      background-color: #3B4455;\n",
              "      fill: #D2E3FC;\n",
              "    }\n",
              "\n",
              "    [theme=dark] .colab-df-convert:hover {\n",
              "      background-color: #434B5C;\n",
              "      box-shadow: 0px 1px 3px 1px rgba(0, 0, 0, 0.15);\n",
              "      filter: drop-shadow(0px 1px 2px rgba(0, 0, 0, 0.3));\n",
              "      fill: #FFFFFF;\n",
              "    }\n",
              "  </style>\n",
              "\n",
              "      <script>\n",
              "        const buttonEl =\n",
              "          document.querySelector('#df-10116c38-9f23-4544-881b-26faaeff2b9e button.colab-df-convert');\n",
              "        buttonEl.style.display =\n",
              "          google.colab.kernel.accessAllowed ? 'block' : 'none';\n",
              "\n",
              "        async function convertToInteractive(key) {\n",
              "          const element = document.querySelector('#df-10116c38-9f23-4544-881b-26faaeff2b9e');\n",
              "          const dataTable =\n",
              "            await google.colab.kernel.invokeFunction('convertToInteractive',\n",
              "                                                     [key], {});\n",
              "          if (!dataTable) return;\n",
              "\n",
              "          const docLinkHtml = 'Like what you see? Visit the ' +\n",
              "            '<a target=\"_blank\" href=https://colab.research.google.com/notebooks/data_table.ipynb>data table notebook</a>'\n",
              "            + ' to learn more about interactive tables.';\n",
              "          element.innerHTML = '';\n",
              "          dataTable['output_type'] = 'display_data';\n",
              "          await google.colab.output.renderOutput(dataTable, element);\n",
              "          const docLink = document.createElement('div');\n",
              "          docLink.innerHTML = docLinkHtml;\n",
              "          element.appendChild(docLink);\n",
              "        }\n",
              "      </script>\n",
              "    </div>\n",
              "  </div>\n",
              "  "
            ]
          },
          "metadata": {},
          "execution_count": 113
        }
      ]
    },
    {
      "cell_type": "markdown",
      "source": [
        "# Training the model\n"
      ],
      "metadata": {
        "id": "pSjf-55CAfHj"
      }
    },
    {
      "cell_type": "code",
      "source": [
        "from sklearn.linear_model import LogisticRegression\n",
        "from sklearn.svm import SVC, LinearSVC\n",
        "from sklearn.ensemble import RandomForestClassifier\n",
        "from sklearn.neighbors import KNeighborsClassifier\n",
        "from sklearn.naive_bayes import GaussianNB\n",
        "from sklearn.linear_model import Perceptron\n",
        "from sklearn.linear_model import SGDClassifier\n",
        "from sklearn.tree import DecisionTreeClassifier"
      ],
      "metadata": {
        "id": "QIoOWior-_yd"
      },
      "execution_count": 114,
      "outputs": []
    },
    {
      "cell_type": "code",
      "source": [
        "train = combined[0]\n",
        "test = combined[1]"
      ],
      "metadata": {
        "id": "-WrDyo3CAk0g"
      },
      "execution_count": 115,
      "outputs": []
    },
    {
      "cell_type": "code",
      "source": [
        "X_train = train.drop(['case_id', 'Stay'], axis=1)\n",
        "Y_train = train[\"Stay\"]\n",
        "X_test  = test.drop(\"case_id\", axis=1).copy()\n"
      ],
      "metadata": {
        "id": "tVBv6N0TAnQj"
      },
      "execution_count": 116,
      "outputs": []
    },
    {
      "cell_type": "code",
      "source": [
        "X_train.shape"
      ],
      "metadata": {
        "colab": {
          "base_uri": "https://localhost:8080/"
        },
        "id": "1eRJrG2nAvZm",
        "outputId": "835a5ed0-47ea-49c2-af29-0cdb2acf2d4a"
      },
      "execution_count": 117,
      "outputs": [
        {
          "output_type": "execute_result",
          "data": {
            "text/plain": [
              "(237309, 12)"
            ]
          },
          "metadata": {},
          "execution_count": 117
        }
      ]
    },
    {
      "cell_type": "code",
      "source": [
        "Y_train.shape"
      ],
      "metadata": {
        "colab": {
          "base_uri": "https://localhost:8080/"
        },
        "id": "D0m7EUXIAw9Q",
        "outputId": "9601ad5a-29cb-49f5-cd9b-05fd44879618"
      },
      "execution_count": 118,
      "outputs": [
        {
          "output_type": "execute_result",
          "data": {
            "text/plain": [
              "(237309,)"
            ]
          },
          "metadata": {},
          "execution_count": 118
        }
      ]
    },
    {
      "cell_type": "code",
      "source": [
        "X_test.shape"
      ],
      "metadata": {
        "colab": {
          "base_uri": "https://localhost:8080/"
        },
        "id": "xXygF5sMAyx8",
        "outputId": "893c0587-20a9-4ba5-8129-c65fc4d1471c"
      },
      "execution_count": 119,
      "outputs": [
        {
          "output_type": "execute_result",
          "data": {
            "text/plain": [
              "(137057, 12)"
            ]
          },
          "metadata": {},
          "execution_count": 119
        }
      ]
    },
    {
      "cell_type": "code",
      "source": [
        "X_test.columns"
      ],
      "metadata": {
        "colab": {
          "base_uri": "https://localhost:8080/"
        },
        "id": "sO0q7ZyaA0nE",
        "outputId": "0929135f-d7f0-4db0-ce1a-12bac5bf4be4"
      },
      "execution_count": 120,
      "outputs": [
        {
          "output_type": "execute_result",
          "data": {
            "text/plain": [
              "Index(['Hospital_code', 'Hospital_type_code', 'City_Code_Hospital',\n",
              "       'Available_Extra_Rooms_in_Hospital', 'Department', 'Ward_Type',\n",
              "       'Ward_Facility_Code', 'Type_of_Admission', 'Severity_of_Illness',\n",
              "       'Visitors_with_Patient', 'Age', 'Admission_Deposit'],\n",
              "      dtype='object')"
            ]
          },
          "metadata": {},
          "execution_count": 120
        }
      ]
    },
    {
      "cell_type": "code",
      "source": [
        "Y_train"
      ],
      "metadata": {
        "colab": {
          "base_uri": "https://localhost:8080/"
        },
        "id": "SCqPZtTwA8BA",
        "outputId": "80c1e793-3c10-4f13-fd16-eb6e046a1765"
      },
      "execution_count": 121,
      "outputs": [
        {
          "output_type": "execute_result",
          "data": {
            "text/plain": [
              "0         0.0\n",
              "1         4.0\n",
              "2         3.0\n",
              "3         4.0\n",
              "4         4.0\n",
              "         ... \n",
              "237304    5.0\n",
              "237305    3.0\n",
              "237306    2.0\n",
              "237307    1.0\n",
              "237308    NaN\n",
              "Name: Stay, Length: 237309, dtype: float64"
            ]
          },
          "metadata": {},
          "execution_count": 121
        }
      ]
    },
    {
      "cell_type": "code",
      "source": [
        "X_train.fillna(0,inplace=True)\n",
        "Y_train.fillna(0,inplace=True)\n",
        "X_test.fillna(0,inplace=True)"
      ],
      "metadata": {
        "id": "6qHQzoCoA-iE"
      },
      "execution_count": 122,
      "outputs": []
    },
    {
      "cell_type": "markdown",
      "source": [
        "## K-Nearest Neighbor Algorithm"
      ],
      "metadata": {
        "id": "2b7faXYGBErw"
      }
    },
    {
      "cell_type": "code",
      "source": [
        "knn = KNeighborsClassifier(n_neighbors = 3)\n",
        "knn.fit(X_train, Y_train)\n",
        "Y_pred = knn.predict(X_test)\n",
        "acc_knn = round(knn.score(X_train, Y_train) * 100, 2)\n",
        "acc_knn"
      ],
      "metadata": {
        "colab": {
          "base_uri": "https://localhost:8080/"
        },
        "id": "o6X1Vh1CBBTI",
        "outputId": "4fe6d38d-ff17-49d5-83f5-cd5d9f7e47fd"
      },
      "execution_count": 123,
      "outputs": [
        {
          "output_type": "execute_result",
          "data": {
            "text/plain": [
              "53.99"
            ]
          },
          "metadata": {},
          "execution_count": 123
        }
      ]
    },
    {
      "cell_type": "markdown",
      "source": [
        "## Descision Tree Algorithm"
      ],
      "metadata": {
        "id": "U_n98orJBLwC"
      }
    },
    {
      "cell_type": "code",
      "source": [
        "decision_tree = DecisionTreeClassifier()\n",
        "decision_tree.fit(X_train, Y_train)\n",
        "Y_pred = decision_tree.predict(X_test)\n",
        "acc_decision_tree = round(decision_tree.score(X_train, Y_train) * 100, 2)\n",
        "acc_decision_tree"
      ],
      "metadata": {
        "colab": {
          "base_uri": "https://localhost:8080/"
        },
        "id": "cGuL3WNbBDid",
        "outputId": "836cf837-072c-4545-d88e-4fc7f734a27c"
      },
      "execution_count": 124,
      "outputs": [
        {
          "output_type": "execute_result",
          "data": {
            "text/plain": [
              "99.76"
            ]
          },
          "metadata": {},
          "execution_count": 124
        }
      ]
    },
    {
      "cell_type": "markdown",
      "source": [
        "## Random Forest Algorithm"
      ],
      "metadata": {
        "id": "g8pKKd_pBe-1"
      }
    },
    {
      "cell_type": "code",
      "source": [
        "random_forest = RandomForestClassifier(n_estimators=100)\n",
        "random_forest.fit(X_train, Y_train)\n",
        "Y_pred = random_forest.predict(X_test)\n",
        "random_forest.score(X_train, Y_train)\n",
        "acc_random_forest = round(random_forest.score(X_train, Y_train) * 100, 2)\n",
        "acc_random_forest"
      ],
      "metadata": {
        "colab": {
          "base_uri": "https://localhost:8080/"
        },
        "id": "TXzwSq8OBk1E",
        "outputId": "55dae96a-2705-478e-a847-1549afead03a"
      },
      "execution_count": 125,
      "outputs": [
        {
          "output_type": "execute_result",
          "data": {
            "text/plain": [
              "99.76"
            ]
          },
          "metadata": {},
          "execution_count": 125
        }
      ]
    },
    {
      "cell_type": "markdown",
      "source": [
        "## Prediction accuracy comparison "
      ],
      "metadata": {
        "id": "Yh9ayDBiCO_7"
      }
    },
    {
      "cell_type": "code",
      "source": [
        "palette_color = sns.color_palette('bright')\n",
        "data=[acc_knn, acc_decision_tree,acc_random_forest]\n",
        "keys=['K-Nearest Neighbor','Decision tree','Random Forest']\n",
        "\n",
        "#getting the algorithm with highest accuracy\n",
        "max_accuracy=max(data)\n",
        "index=[0,0,0]\n",
        "j=0;\n",
        "for i in data:\n",
        "  if(i==max_accuracy):\n",
        "    index[j]=1\n",
        "    j=j+1\n",
        "  else:\n",
        "    index[j]=0.01\n",
        "    j=j+1\n",
        "\n",
        "plt.pie(data, labels=keys, colors=palette_color, autopct='%.0f%%')\n",
        "\n"
      ],
      "metadata": {
        "colab": {
          "base_uri": "https://localhost:8080/",
          "height": 404
        },
        "id": "qKSDCyjbBqO9",
        "outputId": "a3af506a-62db-4da0-b89d-dbada51836ad"
      },
      "execution_count": 126,
      "outputs": [
        {
          "output_type": "execute_result",
          "data": {
            "text/plain": [
              "([<matplotlib.patches.Wedge at 0x7f1b1c160d90>,\n",
              "  <matplotlib.patches.Wedge at 0x7f1b1c22bb10>,\n",
              "  <matplotlib.patches.Wedge at 0x7f1b1c314d50>],\n",
              " [Text(0.8628423642631272, 0.682277842548633, 'K-Nearest Neighbor'),\n",
              "  Text(-0.9277499083745313, 0.590999244932723, 'Decision tree'),\n",
              "  Text(0.36116021327837317, -1.0390203560781281, 'Random Forest')],\n",
              " [Text(0.4706412895980693, 0.3721515504810725, '21%'),\n",
              "  Text(-0.5060454045679261, 0.322363224508758, '39%'),\n",
              "  Text(0.1969964799700217, -0.5667383760426152, '39%')])"
            ]
          },
          "metadata": {},
          "execution_count": 126
        },
        {
          "output_type": "display_data",
          "data": {
            "text/plain": [
              "<Figure size 432x288 with 1 Axes>"
            ],
            "image/png": "[encoded data removed]"
          },
          "metadata": {}
        }
      ]
    },
    {
      "cell_type": "code",
      "source": [
        "palette_color = sns.color_palette('flare')\n",
        "plt.pie(data, labels=keys, colors=palette_color,explode=index, autopct='%.0f%%')"
      ],
      "metadata": {
        "colab": {
          "base_uri": "https://localhost:8080/",
          "height": 500
        },
        "id": "rjX7pRrfCZGE",
        "outputId": "922e2572-50ce-45ce-de1b-c5768753c9b2"
      },
      "execution_count": 127,
      "outputs": [
        {
          "output_type": "execute_result",
          "data": {
            "text/plain": [
              "([<matplotlib.patches.Wedge at 0x7f1b1bf528d0>,\n",
              "  <matplotlib.patches.Wedge at 0x7f1b1bfa9dd0>,\n",
              "  <matplotlib.patches.Wedge at 0x7f1b1c019c90>],\n",
              " [Text(0.8706863857564283, 0.6884803683899842, 'K-Nearest Neighbor'),\n",
              "  Text(-1.7711589159877414, 1.1282712857806532, 'Decision tree'),\n",
              "  Text(0.689487679895076, -1.9835843161491535, 'Random Forest')],\n",
              " [Text(0.47848531109137044, 0.37835407632242374, '21%'),\n",
              "  Text(-1.3494544121811365, 0.859635265356688, '39%'),\n",
              "  Text(0.5253239465867245, -1.5113023361136406, '39%')])"
            ]
          },
          "metadata": {},
          "execution_count": 127
        },
        {
          "output_type": "display_data",
          "data": {
            "text/plain": [
              "<Figure size 432x288 with 1 Axes>"
            ],
            "image/png": "[encoded data removed]"
          },
          "metadata": {}
        }
      ]
    },
    {
      "cell_type": "code",
      "source": [
        "output = pd.DataFrame({\n",
        "        \"case_id\": test[\"case_id\"],\n",
        "        \"Stay\": Y_pred\n",
        "})"
      ],
      "metadata": {
        "id": "nQHOtbYAGLm1"
      },
      "execution_count": 136,
      "outputs": []
    },
    {
      "cell_type": "code",
      "source": [
        "output['Stay'] = output['Stay'].replace(stay_labels.values(), stay_labels.keys())"
      ],
      "metadata": {
        "id": "jXE1Qju7ePtO"
      },
      "execution_count": 137,
      "outputs": []
    },
    {
      "cell_type": "code",
      "source": [
        "output.to_csv('LOS_Prediction.csv', index = False)"
      ],
      "metadata": {
        "id": "4rVPT1yfeSGX"
      },
      "execution_count": 138,
      "outputs": []
    },
    {
      "cell_type": "code",
      "source": [
        "output"
      ],
      "metadata": {
        "colab": {
          "base_uri": "https://localhost:8080/",
          "height": 424
        },
        "id": "PvdW2gjMebQu",
        "outputId": "37e74863-a3c5-4133-d913-28c58c65a1c6"
      },
      "execution_count": 139,
      "outputs": [
        {
          "output_type": "execute_result",
          "data": {
            "text/plain": [
              "        case_id   Stay\n",
              "0        318439   0-10\n",
              "1        318440  51-60\n",
              "2        318441  21-30\n",
              "3        318442  11-20\n",
              "4        318443  31-40\n",
              "...         ...    ...\n",
              "137052   455491   0-10\n",
              "137053   455492   0-10\n",
              "137054   455493  21-30\n",
              "137055   455494  21-30\n",
              "137056   455495  51-60\n",
              "\n",
              "[137057 rows x 2 columns]"
            ],
            "text/html": [
              "\n",
              "  <div id=\"df-e107051c-cf03-462e-8592-29e1fc9251dd\">\n",
              "    <div class=\"colab-df-container\">\n",
              "      <div>\n",
              "<style scoped>\n",
              "    .dataframe tbody tr th:only-of-type {\n",
              "        vertical-align: middle;\n",
              "    }\n",
              "\n",
              "    .dataframe tbody tr th {\n",
              "        vertical-align: top;\n",
              "    }\n",
              "\n",
              "    .dataframe thead th {\n",
              "        text-align: right;\n",
              "    }\n",
              "</style>\n",
              "<table border=\"1\" class=\"dataframe\">\n",
              "  <thead>\n",
              "    <tr style=\"text-align: right;\">\n",
              "      <th></th>\n",
              "      <th>case_id</th>\n",
              "      <th>Stay</th>\n",
              "    </tr>\n",
              "  </thead>\n",
              "  <tbody>\n",
              "    <tr>\n",
              "      <th>0</th>\n",
              "      <td>318439</td>\n",
              "      <td>0-10</td>\n",
              "    </tr>\n",
              "    <tr>\n",
              "      <th>1</th>\n",
              "      <td>318440</td>\n",
              "      <td>51-60</td>\n",
              "    </tr>\n",
              "    <tr>\n",
              "      <th>2</th>\n",
              "      <td>318441</td>\n",
              "      <td>21-30</td>\n",
              "    </tr>\n",
              "    <tr>\n",
              "      <th>3</th>\n",
              "      <td>318442</td>\n",
              "      <td>11-20</td>\n",
              "    </tr>\n",
              "    <tr>\n",
              "      <th>4</th>\n",
              "      <td>318443</td>\n",
              "      <td>31-40</td>\n",
              "    </tr>\n",
              "    <tr>\n",
              "      <th>...</th>\n",
              "      <td>...</td>\n",
              "      <td>...</td>\n",
              "    </tr>\n",
              "    <tr>\n",
              "      <th>137052</th>\n",
              "      <td>455491</td>\n",
              "      <td>0-10</td>\n",
              "    </tr>\n",
              "    <tr>\n",
              "      <th>137053</th>\n",
              "      <td>455492</td>\n",
              "      <td>0-10</td>\n",
              "    </tr>\n",
              "    <tr>\n",
              "      <th>137054</th>\n",
              "      <td>455493</td>\n",
              "      <td>21-30</td>\n",
              "    </tr>\n",
              "    <tr>\n",
              "      <th>137055</th>\n",
              "      <td>455494</td>\n",
              "      <td>21-30</td>\n",
              "    </tr>\n",
              "    <tr>\n",
              "      <th>137056</th>\n",
              "      <td>455495</td>\n",
              "      <td>51-60</td>\n",
              "    </tr>\n",
              "  </tbody>\n",
              "</table>\n",
              "<p>137057 rows × 2 columns</p>\n",
              "</div>\n",
              "      <button class=\"colab-df-convert\" onclick=\"convertToInteractive('df-e107051c-cf03-462e-8592-29e1fc9251dd')\"\n",
              "              title=\"Convert this dataframe to an interactive table.\"\n",
              "              style=\"display:none;\">\n",
              "        \n",
              "  <svg xmlns=\"http://www.w3.org/2000/svg\" height=\"24px\"viewBox=\"0 0 24 24\"\n",
              "       width=\"24px\">\n",
              "    <path d=\"M0 0h24v24H0V0z\" fill=\"none\"/>\n",
              "    <path d=\"M18.56 5.44l.94 2.06.94-2.06 2.06-.94-2.06-.94-.94-2.06-.94 2.06-2.06.94zm-11 1L8.5 8.5l.94-2.06 2.06-.94-2.06-.94L8.5 2.5l-.94 2.06-2.06.94zm10 10l.94 2.06.94-2.06 2.06-.94-2.06-.94-.94-2.06-.94 2.06-2.06.94z\"/><path d=\"M17.41 7.96l-1.37-1.37c-.4-.4-.92-.59-1.43-.59-.52 0-1.04.2-1.43.59L10.3 9.45l-7.72 7.72c-.78.78-.78 2.05 0 2.83L4 21.41c.39.39.9.59 1.41.59.51 0 1.02-.2 1.41-.59l7.78-7.78 2.81-2.81c.8-.78.8-2.07 0-2.86zM5.41 20L4 18.59l7.72-7.72 1.47 1.35L5.41 20z\"/>\n",
              "  </svg>\n",
              "      </button>\n",
              "      \n",
              "  <style>\n",
              "    .colab-df-container {\n",
              "      display:flex;\n",
              "      flex-wrap:wrap;\n",
              "      gap: 12px;\n",
              "    }\n",
              "\n",
              "    .colab-df-convert {\n",
              "      background-color: #E8F0FE;\n",
              "      border: none;\n",
              "      border-radius: 50%;\n",
              "      cursor: pointer;\n",
              "      display: none;\n",
              "      fill: #1967D2;\n",
              "      height: 32px;\n",
              "      padding: 0 0 0 0;\n",
              "      width: 32px;\n",
              "    }\n",
              "\n",
              "    .colab-df-convert:hover {\n",
              "      background-color: #E2EBFA;\n",
              "      box-shadow: 0px 1px 2px rgba(60, 64, 67, 0.3), 0px 1px 3px 1px rgba(60, 64, 67, 0.15);\n",
              "      fill: #174EA6;\n",
              "    }\n",
              "\n",
              "    [theme=dark] .colab-df-convert {\n",
              "      background-color: #3B4455;\n",
              "      fill: #D2E3FC;\n",
              "    }\n",
              "\n",
              "    [theme=dark] .colab-df-convert:hover {\n",
              "      background-color: #434B5C;\n",
              "      box-shadow: 0px 1px 3px 1px rgba(0, 0, 0, 0.15);\n",
              "      filter: drop-shadow(0px 1px 2px rgba(0, 0, 0, 0.3));\n",
              "      fill: #FFFFFF;\n",
              "    }\n",
              "  </style>\n",
              "\n",
              "      <script>\n",
              "        const buttonEl =\n",
              "          document.querySelector('#df-e107051c-cf03-462e-8592-29e1fc9251dd button.colab-df-convert');\n",
              "        buttonEl.style.display =\n",
              "          google.colab.kernel.accessAllowed ? 'block' : 'none';\n",
              "\n",
              "        async function convertToInteractive(key) {\n",
              "          const element = document.querySelector('#df-e107051c-cf03-462e-8592-29e1fc9251dd');\n",
              "          const dataTable =\n",
              "            await google.colab.kernel.invokeFunction('convertToInteractive',\n",
              "                                                     [key], {});\n",
              "          if (!dataTable) return;\n",
              "\n",
              "          const docLinkHtml = 'Like what you see? Visit the ' +\n",
              "            '<a target=\"_blank\" href=https://colab.research.google.com/notebooks/data_table.ipynb>data table notebook</a>'\n",
              "            + ' to learn more about interactive tables.';\n",
              "          element.innerHTML = '';\n",
              "          dataTable['output_type'] = 'display_data';\n",
              "          await google.colab.output.renderOutput(dataTable, element);\n",
              "          const docLink = document.createElement('div');\n",
              "          docLink.innerHTML = docLinkHtml;\n",
              "          element.appendChild(docLink);\n",
              "        }\n",
              "      </script>\n",
              "    </div>\n",
              "  </div>\n",
              "  "
            ]
          },
          "metadata": {},
          "execution_count": 139
        }
      ]
    },
    {
      "cell_type": "code",
      "source": [
        "\n",
        "data=np.array([[29,0,4,2,2,3,5,1,2,4,7,4018]])\n",
        "p=random_forest.predict(data)\n",
        "p"
      ],
      "metadata": {
        "colab": {
          "base_uri": "https://localhost:8080/"
        },
        "id": "CpnUvK0Hednn",
        "outputId": "624d09f2-6912-4922-9741-c098d8b696a8"
      },
      "execution_count": 132,
      "outputs": [
        {
          "output_type": "stream",
          "name": "stderr",
          "text": [
            "/usr/local/lib/python3.7/dist-packages/sklearn/base.py:451: UserWarning: X does not have valid feature names, but RandomForestClassifier was fitted with feature names\n",
            "  \"X does not have valid feature names, but\"\n"
          ]
        },
        {
          "output_type": "execute_result",
          "data": {
            "text/plain": [
              "array([5.])"
            ]
          },
          "metadata": {},
          "execution_count": 132
        }
      ]
    },
    {
      "cell_type": "code",
      "source": [
        "def prediction(p):\n",
        "  if(p[0]==0):\n",
        "    print(\"The predicted LOS of patient is : 0-10\")\n",
        "  elif(p[0]==1):\n",
        "    print(\"The predicted LOS of patient is : 11-20\")\n",
        "  elif(p[0]==2):\n",
        "    print(\"The predicted LOS of patient is : 21-30\")\n",
        "  elif(p[0]==3):\n",
        "    print(\"The predicted LOS of patient is : 31-40\")\n",
        "  elif(p[0]==4):\n",
        "    print(\"The predicted LOS of patient is : 41-50\")\n",
        "  elif(p[0]==5):\n",
        "    print(\"The predicted LOS of patient is : 51-60\")\n",
        "  elif(p[0]==6):\n",
        "    print(\"The predicted LOS of patient is : 61-70\")\n",
        "  elif(p[0]==7):\n",
        "    print(\"The predicted LOS of patient is : 71-80\")\n",
        "  elif(p[0]==8):\n",
        "    print(\"The predicted LOS of patient is : 81-90\")\n",
        "  elif(p[0]==9):\n",
        "    print(\"The predicted LOS of patient is : 91-100\")\n",
        "  elif(p[0]==10):\n",
        "    print(\"The predicted LOS of patient is : More than 100 Days\")\n"
      ],
      "metadata": {
        "id": "eXAI0zzgez0_"
      },
      "execution_count": 133,
      "outputs": []
    },
    {
      "cell_type": "code",
      "source": [
        "data=np.array([[29,0,4,2,2,3,5,1,2,4,7,4018]])\n",
        "p=random_forest.predict(data)\n",
        "print(p)"
      ],
      "metadata": {
        "id": "Nzmx5HMrfBrT"
      },
      "execution_count": null,
      "outputs": []
    },
    {
      "cell_type": "code",
      "source": [
        "prediction(p)"
      ],
      "metadata": {
        "colab": {
          "base_uri": "https://localhost:8080/"
        },
        "id": "a8vuiWmCVq6q",
        "outputId": "29514c46-7f6c-4ea4-c7c5-5b011d39ac14"
      },
      "execution_count": 135,
      "outputs": [
        {
          "output_type": "stream",
          "name": "stdout",
          "text": [
            "The predicted LOS of patient is : 51-60\n"
          ]
        }
      ]
    },
    {
      "cell_type": "code",
      "source": [],
      "metadata": {
        "id": "Bh7Ry_2sVtGv"
      },
      "execution_count": 135,
      "outputs": []
    }
  ]
}